{
 "cells": [
  {
   "cell_type": "markdown",
   "metadata": {},
   "source": [
    "## Assignment of Lecture 04"
   ]
  },
  {
   "cell_type": "markdown",
   "metadata": {},
   "source": [
    "In this week, we need complete following tasks:\n",
    "+ Re-review the course online programming; \n",
    "+ Choose 1 - 2 books which you interested and keep reading; \n",
    "+ Answer the review questions\n",
    "+ Prepare the basic requirement of our 1st project. "
   ]
  },
  {
   "cell_type": "markdown",
   "metadata": {},
   "source": [
    "### Part I Review the online programming. \n",
    "See Code review 04"
   ]
  },
  {
   "cell_type": "markdown",
   "metadata": {},
   "source": [
    "### Part1-2: Finish the Solution Parse Part of Edit-Distance"
   ]
  },
  {
   "cell_type": "code",
   "execution_count": 3,
   "metadata": {},
   "outputs": [
    {
     "name": "stdout",
     "output_type": "stream",
     "text": [
      "min_distance 7\n"
     ]
    }
   ],
   "source": [
    "#动态规划，将已经拆过的结果存储下来\n",
    "solution = {}\n",
    "\n",
    "def edit_distance(string1,string2):\n",
    "\tif len(string1) == 0 and len(string2) > 0:\n",
    "\t\ttail_s2 = string2[-1]\n",
    "\t\tcandidates = [( edit_distance(string1,string2[:-1]) + 1, 'Add {}'.format(tail_s2))]\n",
    "\telif len(string2) == 0 and len(string1) > 0:\n",
    "\t\ttail_s1 = string1[-1]\n",
    "\t\tcandidates = [(edit_distance(string1[:-1],string2) + 1, 'Del {}'.format(tail_s1))]\n",
    "\telif len(string1) == len(string2) == 0 :\n",
    "\t\treturn 0\n",
    "\telse:\n",
    "\t\ttail_s1 = string1[-1]\n",
    "\t\ttail_s2 = string2[-1]\n",
    "\n",
    "\t\tcandidates = [\n",
    "\t\t\t(edit_distance(string1[:-1],string2) + 1,'Del {}'.format(tail_s1)),\n",
    "\t\t\t(edit_distance(string1,string2[:-1]) + 1,'Add {}'.format(tail_s2))\n",
    "\t\t]\n",
    "\n",
    "\t\tif tail_s1 ==  tail_s2:\n",
    "\t\t\tboth_forward = (edit_distance(string1[:-1],string2[:-1])+ 0, 'Not doing anything')\n",
    "\t\telse:\n",
    "\t\t\tboth_forward = (edit_distance(string1[:-1],string2[:-1])+1, 'Substitude {}-->{}'.format(tail_s1,tail_s2))\n",
    "\n",
    "\t\tcandidates.append(both_forward)\n",
    "\n",
    "\tmin_distance, operation = min(candidates,key = lambda x:x[0])\n",
    "\n",
    "\tsolution[(min_distance,string1,string2)] = operation\n",
    "\t# print(min_distance,string1,string2,operation)\n",
    "\treturn min_distance\n",
    "\n",
    "string1 = 'adbbbbb'\n",
    "string2 = '1103aewbbbbe'\n",
    "\n",
    "min_distance = edit_distance(string1,string2)\n",
    "print('min_distance',min_distance )\n"
   ]
  },
  {
   "cell_type": "code",
   "execution_count": 9,
   "metadata": {
    "scrolled": true
   },
   "outputs": [
    {
     "name": "stdout",
     "output_type": "stream",
     "text": [
      "Step 1 ('adbbbbb', 'Add e')\n",
      "Step 1 ('adbbbbb', 'Not doing anything')\n",
      "Step 1 ('adbbbb', 'Not doing anything')\n",
      "Step 1 ('adbbb', 'Not doing anything')\n",
      "Step 1 ('adbb', 'Not doing anything')\n",
      "Step 2 ('adb', 'Substitude b-->w')\n",
      "Step 3 ('ad', 'Substitude d-->e')\n",
      "Step 3 ('a', 'Not doing anything')\n",
      "Step 4 ('', 'Add 3')\n",
      "Step 5 ('', 'Add 0')\n",
      "Step 6 ('', 'Add 1')\n",
      "Step 7 ('', 'Add 1')\n"
     ]
    }
   ],
   "source": [
    "def parse_solution(solution,string1,string2,min_distance):\n",
    "\tnext_s1 = string1\n",
    "\tnext_s2 = string2 \n",
    "\n",
    "\tsolution_items = list(solution.items())\n",
    "\tsolution_items.reverse()\n",
    "\n",
    "\tparsed_dict = []\n",
    "\tfor k,v in solution_items:\n",
    "\t\tif k[0] <= min_distance and (next_s1  == k[1] and next_s2 == k[2]):\n",
    "\t\t\tparsed_dict.append((k[1],v))\n",
    "\t\t\tif 'Substitude' in v :\n",
    "\t\t\t\tnext_s1 = next_s1[:-1]\n",
    "\t\t\t\tnext_s2 = next_s2[:-1]\n",
    "\t\t\telif 'Add' in v :\n",
    "\t\t\t\tnext_s1 = next_s1\n",
    "\t\t\t\tnext_s2 = next_s2[:-1]\n",
    "\t\t\telif 'Del' in v:\n",
    "\t\t\t\tnext_s1 = next_s1[:-1]\n",
    "\t\t\t\tnext_s2 = next_s2\n",
    "\t\t\telse :\n",
    "\t\t\t\tnext_s1 = next_s1[:-1]\n",
    "\t\t\t\tnext_s2 = next_s2[:-1]\n",
    "\n",
    "\treturn parsed_dict\n",
    "\n",
    "parsed_dict = parse_solution(solution,string1,string2,min_distance)\n",
    "\n",
    "counter = 0\n",
    "for k in parsed_dict:\n",
    "    if k[1] != 'Not doing anything':\n",
    "        counter += 1 \n",
    "    print('Step',counter,k)\n"
   ]
  },
  {
   "cell_type": "markdown",
   "metadata": {},
   "source": [
    "### Part 2 Choose 1 - 2 books to keep reading: \n",
    "\n",
    "+ SICP, Structure and Interpretation of Computer Programming. \n",
    "+ Introduction to Algorithms \n",
    "+ Artificial Intelligence A Modern Approach (3rd Edition) \n",
    "+ Code Complete 2 \n",
    "+ Programming Pearls \n",
    "+ Deep Learning\n",
    "+ 黑快与画家\n",
    "+ 数学之美\n",
    "+ Fluent Python\n",
    "+ **Hands on Tensorflow(this one)**\n",
    "+ Conference: NIPS_ ICML_ ICLR_ ACL_ AAAI\n",
    "\n",
    "> most books you may find in our github: https://github.com/Computing-Intelligence/References"
   ]
  },
  {
   "cell_type": "markdown",
   "metadata": {},
   "source": [
    "### Part 3: Answer following questions: "
   ]
  },
  {
   "cell_type": "markdown",
   "metadata": {},
   "source": [
    "1. Why do we need dynamic programming? What's the difference of dynamic programming and previous talked `search` problme? "
   ]
  },
  {
   "cell_type": "markdown",
   "metadata": {},
   "source": [
    "Ans:\n",
    "+ For solving repeating sub-problems to reduce the the run time of a programe.\n",
    "+ Search problems may not have repeating sub-problems and we may not be able to find the patterns thus we can't do the recursion."
   ]
  },
  {
   "cell_type": "markdown",
   "metadata": {},
   "source": [
    "2. Why do we still need dynamic programming? Why not we train a machine learning to fit a function which could get the `right` answer based on inputs?"
   ]
  },
  {
   "cell_type": "markdown",
   "metadata": {},
   "source": [
    "Ans:Because many problems have a certain optimal answer,we can get the answer by enumeration,and machine learning is difficult to fit the unstructure/text data."
   ]
  },
  {
   "cell_type": "markdown",
   "metadata": {},
   "source": [
    "3. Can you catch up at least 3 problems which could solved by Dynamic Programming? "
   ]
  },
  {
   "cell_type": "markdown",
   "metadata": {},
   "source": [
    "Ans:\n",
    "+ Shortest path problem \n",
    "+ Rob cutting problem\n",
    "+ 0-1背包问题"
   ]
  },
  {
   "cell_type": "markdown",
   "metadata": {},
   "source": [
    "4. Can you catch up at least 3 problems wich could sloved by Edit Distance? "
   ]
  },
  {
   "cell_type": "markdown",
   "metadata": {},
   "source": [
    "Ans:\n",
    "+ Calculate minimum steps of altering one string to another.\n",
    "+ Web search engine\n",
    "+ Misspelling correction"
   ]
  },
  {
   "cell_type": "markdown",
   "metadata": {},
   "source": [
    "5. Please summarize the three main features of Dynamic Programming, and make a concise explain for each feature. "
   ]
  },
  {
   "cell_type": "markdown",
   "metadata": {},
   "source": [
    "Ans:\n",
    "<p>1.分析子问题的重复\n",
    "\n",
    "2.子问题结果存储\n",
    "\n",
    "3.Solution 要进行解析"
   ]
  },
  {
   "cell_type": "markdown",
   "metadata": {},
   "source": [
    "6. What's the disadvantages of Dynamic Programming? (You may need search by yourself in Internet)"
   ]
  },
  {
   "cell_type": "markdown",
   "metadata": {},
   "source": [
    "Ans:\n",
    "+ It can't solve problems that have a non-integer constraint.\n",
    "+ It's may not be the fastest way to get the right answer. "
   ]
  },
  {
   "cell_type": "markdown",
   "metadata": {},
   "source": [
    "## Part 4 Preparation of Project-01"
   ]
  },
  {
   "cell_type": "markdown",
   "metadata": {},
   "source": [
    "1. Using python Flask or Bottle to finish your first simple web app:\n",
    "> https://bottlepy.org/\n",
    "\n",
    "2. Learn what's the SQL, and try some simple SQL operations:\n",
    "> https://www.w3schools.com/sql/sql_intro.asp\n",
    "\n",
    "3. Learn what's the HTML ( *ONLY* need to know the basic things)\n",
    "> https://getbootstrap.com/; https://www.w3schools.com/html/"
   ]
  },
  {
   "cell_type": "code",
   "execution_count": null,
   "metadata": {},
   "outputs": [
    {
     "name": "stderr",
     "output_type": "stream",
     "text": [
      "Bottle v0.12.16 server starting up (using WSGIRefServer())...\n",
      "Listening on http://localhost:8080/\n",
      "Hit Ctrl-C to quit.\n",
      "\n",
      "127.0.0.1 - - [30/Apr/2019 14:35:51] \"GET / HTTP/1.1\" 404 720\n",
      "127.0.0.1 - - [30/Apr/2019 14:35:51] \"GET /favicon.ico HTTP/1.1\" 404 742\n",
      "127.0.0.1 - - [30/Apr/2019 14:36:13] \"GET / HTTP/1.1\" 404 720\n",
      "127.0.0.1 - - [30/Apr/2019 14:36:15] \"GET / HTTP/1.1\" 404 720\n",
      "127.0.0.1 - - [30/Apr/2019 14:40:52] \"GET / HTTP/1.1\" 404 720\n"
     ]
    }
   ],
   "source": [
    "from bottle import route, run, template\n",
    "\n",
    "@route('/hello/<name>')\n",
    "def index(name):\n",
    "    return template('<b>Hello {{name}}</b>!', name=name)\n",
    "\n",
    "run(host='localhost', port=8080)"
   ]
  },
  {
   "cell_type": "markdown",
   "metadata": {},
   "source": [
    "### (Optinal) Finish the k-person-salesman problem:"
   ]
  },
  {
   "cell_type": "code",
   "execution_count": 2,
   "metadata": {},
   "outputs": [],
   "source": [
    "import random\n",
    "import matplotlib.pylab as plt"
   ]
  },
  {
   "cell_type": "code",
   "execution_count": 10,
   "metadata": {},
   "outputs": [],
   "source": [
    "latitudes = [random.randint(-100, 100) for _ in range(20)]\n",
    "longitudes = [random.randint(-100, 100) for _ in range(20)]"
   ]
  },
  {
   "cell_type": "code",
   "execution_count": 11,
   "metadata": {},
   "outputs": [
    {
     "name": "stdout",
     "output_type": "stream",
     "text": [
      "[18, -18, -47, 19, 48, 61, -97, 29, -41, 47, -73, 71, -16, -99, -92, 83, 7, 68, -54, -15]\n",
      "[-17, -17, -80, 84, -48, -38, -1, -7, 0, 8, -22, -97, -36, -39, -73, 46, 59, -57, 12, -22]\n"
     ]
    }
   ],
   "source": [
    "print(latitudes)\n",
    "print(longitudes)"
   ]
  },
  {
   "cell_type": "code",
   "execution_count": 6,
   "metadata": {},
   "outputs": [
    {
     "data": {
      "text/plain": [
       "<matplotlib.collections.PathCollection at 0x113ea6940>"
      ]
     },
     "execution_count": 6,
     "metadata": {},
     "output_type": "execute_result"
    },
    {
     "data": {
      "image/png": "[encoded data removed]",
      "text/plain": [
       "<Figure size 432x288 with 1 Axes>"
      ]
     },
     "metadata": {
      "needs_background": "light"
     },
     "output_type": "display_data"
    }
   ],
   "source": [
    "plt.scatter(latitudes, longitude)"
   ]
  },
  {
   "cell_type": "markdown",
   "metadata": {},
   "source": [
    "给定一个初始点 $P$, 已经 $k$个车辆，如何从该点出发，经这 k 个车辆经过所以的点全部一次，而且所走过的路程最短? "
   ]
  },
  {
   "cell_type": "markdown",
   "metadata": {},
   "source": [
    "例如： "
   ]
  },
  {
   "cell_type": "code",
   "execution_count": 15,
   "metadata": {},
   "outputs": [],
   "source": [
    "chosen_p = (5, 10)"
   ]
  },
  {
   "cell_type": "code",
   "execution_count": 16,
   "metadata": {},
   "outputs": [
    {
     "data": {
      "text/plain": [
       "<matplotlib.collections.PathCollection at 0x114883fd0>"
      ]
     },
     "execution_count": 16,
     "metadata": {},
     "output_type": "execute_result"
    },
    {
     "data": {
      "image/png": "[encoded data removed]",
      "text/plain": [
       "<Figure size 432x288 with 1 Axes>"
      ]
     },
     "metadata": {
      "needs_background": "light"
     },
     "output_type": "display_data"
    }
   ],
   "source": [
    "plt.scatter(latitudes, longitude)\n",
    "plt.scatter([chosen_p[0]], [chosen_p[1]], color='r')"
   ]
  },
  {
   "cell_type": "code",
   "execution_count": null,
   "metadata": {},
   "outputs": [],
   "source": [
    "import random\n",
    "import matplotlib.pylab as plt\n",
    "\n",
    "#问题：给定一个初始点  𝑃 , 已知  𝑘 个车辆，如何从该点出发，并且这 k 个车辆经过所有的点全部一次，而且所走过的路程最短?\n",
    "\n",
    "latitudes = [random.randint(-100, 100) for _ in range(20)]\n",
    "longitudes = [random.randint(-100, 100) for _ in range(20)]\n",
    "\n",
    "latitudes =  [1,-2,3,4,5,6,7,8,9]\n",
    "longitudes = [-1,-2,3,-4,5,-6,7,-8,9]\n",
    "\n",
    "def mix_list(*lists):\n",
    "\t\"\"\"\n",
    "\tcombine two lists that has the same length(N) into a N length tuple list\n",
    "\tthe first list will be x, second list will be the y \n",
    "\t\"\"\"\n",
    "\tresult = []\n",
    "\tall_lists = list(lists)\n",
    "\n",
    "\tif not all([len(x) ==len(lists[0]) for x in all_lists]):\n",
    "\t\treturn 'Input lists must be the same length'\n",
    "\telse:\n",
    "\t\tfor i in range(len(lists[0])):\n",
    "\t\t\teach_point = []\n",
    "\t\t\tfor j in range(len(all_lists)):\n",
    "\t\t\t\teach_point.append(all_lists[j][i])\n",
    "\t\t\teach_point = tuple(each_point)\n",
    "\n",
    "\t\t\tresult.append(each_point)\n",
    "\treturn result\n",
    "\n",
    "point_list = mix_list(latitudes,longitudes)\n",
    "\n",
    "\n",
    "def get_distance(point1,point2):\n",
    "\treturn round(pow(pow(point2[0] - point1[0],2) + pow(point2[1]-point1[1],2),1/2),2)\n",
    "\n",
    "# print(get_distance(point_list[1],point_list[3]))\n",
    "start_point  = (5,10)\n",
    "k = 5\n",
    "\n",
    "distance = {}\n",
    "\n",
    "pathes = [ [start_point] for _ in range(k)]\n",
    "\n",
    "#每一层计算出最短路径 最终结果并不一定是最短，必须要进行累加才知道哪个方案是最短\n",
    "#目标：将一个具有N个点左边的列表，划分为K个子列表，并且子列表形成的顺序的点距离最小\n",
    "#应该是需要计算出所有点之间的距离\n",
    "def cal_all_distance(distance,point_list):\n",
    "\t\"\"\"\n",
    "\tCalculate all distance betweem points in a list\n",
    "\t@point_list : including the startpoint\n",
    "\t\"\"\"\n",
    "\tif len(point_list)==0:\n",
    "\t\treturn distance\n",
    "\n",
    "\tfirst_point = point_list.pop(0)\n",
    "\tfor p in point_list:\n",
    "\t\teach_distance = get_distance(first_point,p)\n",
    "\t\tdistance.update({(first_point,p):each_distance})\n",
    "\n",
    "\treturn cal_all_distance(distance,point_list)\n",
    "# plt.scatter(latitudes,longitudes)\n",
    "# plt.scatter(start_point[0],start_point[1],color='red')\n",
    "\n",
    "all_points = [start_point] + point_list\n",
    "\n",
    "all_distance = cal_all_distance(distance,all_points)\n",
    "\n",
    "# print(all_distance)\n",
    "\n",
    "# for k,v in all_distance.items():\n",
    "# \tprint(k,v)\n",
    "\n",
    "#假设k辆车不需要全部开出去\n",
    "#以startpoint 为起点，似乎方案超过point_lists的长度，因为总要从一个点跨出第一步\n",
    "#并且path必须遵循点对点需要连接的顺序限制，搜索范围会变更小\n",
    "def is_covered(point1_combine,point2_combine):\n",
    "\t\"\"\"\n",
    "\tReturn if point1_combine and point2_combine have one overlapping point\n",
    "\t\"\"\"\n",
    "\ttemp = [p1 in point2_combine for p1 in point1_combine]\n",
    "\treturn len([x for x in temp if x])\n",
    "\n",
    "# #获得每个path内部的数量多少的排列组合\n",
    "def get_min_path(n,start_point,all_distance):\n",
    "\twhile n and all_distance :\n",
    "\t\tn = n -1 \n",
    "\t\t\"\"\"Given a start_point and a number n, return the shortest path with n points \"\"\"\n",
    "\t\tfit_points = [ (x[0],x[1]) for x in all_distance.items() if is_covered(x[0],start_point)]\n",
    "\t\tdistance_key = list(all_distance.keys())\n",
    "\n",
    "\t\tfor x in distance_key:\n",
    "\t\t\tif is_covered(x,start_point):\n",
    "\t\t\t\tall_distance.pop(x)\n",
    "\n",
    "\t\tfor f in fit_points:\n",
    "\t\t\tmin_distance = f[1] + \n",
    "\n",
    "\t\tmin_distance = \tmin([ x[1] + get_min_path(n,x[0],all_distance) for x in fit_points])\n",
    "\t\treturn min_distance\n",
    "\telse:\n",
    "\t\treturn 0\n",
    "\t\n",
    "\n",
    "# for x in all_distance.items():\n",
    "# \tprint(x)\n",
    "x = get_min_path(20,((None,None),start_point),all_distance)\n",
    "print(x)\n",
    "\n"
   ]
  }
 ],
 "metadata": {
  "kernelspec": {
   "display_name": "Python 3",
   "language": "python",
   "name": "python3"
  },
  "language_info": {
   "codemirror_mode": {
    "name": "ipython",
    "version": 3
   },
   "file_extension": ".py",
   "mimetype": "text/x-python",
   "name": "python",
   "nbconvert_exporter": "python",
   "pygments_lexer": "ipython3",
   "version": "3.6.8"
  }
 },
 "nbformat": 4,
 "nbformat_minor": 2
}
