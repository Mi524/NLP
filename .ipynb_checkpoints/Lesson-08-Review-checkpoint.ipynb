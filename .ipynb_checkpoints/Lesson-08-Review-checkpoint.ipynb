{
 "cells": [
  {
   "cell_type": "markdown",
   "metadata": {},
   "source": [
    "### 平均数  中位数  标准差 方差"
   ]
  },
  {
   "cell_type": "code",
   "execution_count": null,
   "metadata": {},
   "outputs": [],
   "source": [
    "import numpy as np\n",
    "import random"
   ]
  },
  {
   "cell_type": "code",
   "execution_count": 42,
   "metadata": {},
   "outputs": [],
   "source": [
    "numbers = [random.randint(0,100) for i in range(100)]"
   ]
  },
  {
   "cell_type": "code",
   "execution_count": 43,
   "metadata": {
    "scrolled": true
   },
   "outputs": [
    {
     "data": {
      "text/plain": [
       "[20,\n",
       " 58,\n",
       " 69,\n",
       " 2,\n",
       " 83,\n",
       " 75,\n",
       " 44,\n",
       " 39,\n",
       " 45,\n",
       " 12,\n",
       " 71,\n",
       " 48,\n",
       " 72,\n",
       " 43,\n",
       " 18,\n",
       " 5,\n",
       " 77,\n",
       " 53,\n",
       " 62,\n",
       " 35,\n",
       " 1,\n",
       " 36,\n",
       " 68,\n",
       " 74,\n",
       " 46,\n",
       " 8,\n",
       " 66,\n",
       " 64,\n",
       " 96,\n",
       " 19,\n",
       " 75,\n",
       " 50,\n",
       " 72,\n",
       " 46,\n",
       " 13,\n",
       " 93,\n",
       " 67,\n",
       " 4,\n",
       " 19,\n",
       " 88,\n",
       " 60,\n",
       " 41,\n",
       " 74,\n",
       " 76,\n",
       " 80,\n",
       " 96,\n",
       " 7,\n",
       " 59,\n",
       " 74,\n",
       " 53,\n",
       " 21,\n",
       " 42,\n",
       " 16,\n",
       " 38,\n",
       " 40,\n",
       " 46,\n",
       " 30,\n",
       " 1,\n",
       " 53,\n",
       " 29,\n",
       " 70,\n",
       " 15,\n",
       " 47,\n",
       " 64,\n",
       " 17,\n",
       " 56,\n",
       " 43,\n",
       " 89,\n",
       " 22,\n",
       " 43,\n",
       " 100,\n",
       " 53,\n",
       " 88,\n",
       " 67,\n",
       " 19,\n",
       " 93,\n",
       " 9,\n",
       " 33,\n",
       " 77,\n",
       " 4,\n",
       " 99,\n",
       " 1,\n",
       " 77,\n",
       " 85,\n",
       " 91,\n",
       " 100,\n",
       " 93,\n",
       " 69,\n",
       " 36,\n",
       " 13,\n",
       " 84,\n",
       " 99,\n",
       " 9,\n",
       " 39,\n",
       " 64,\n",
       " 3,\n",
       " 90,\n",
       " 33,\n",
       " 10,\n",
       " 94]"
      ]
     },
     "execution_count": 43,
     "metadata": {},
     "output_type": "execute_result"
    }
   ],
   "source": [
    "numbers"
   ]
  },
  {
   "cell_type": "code",
   "execution_count": 5,
   "metadata": {},
   "outputs": [],
   "source": [
    "numbers = sorted(numbers)"
   ]
  },
  {
   "cell_type": "code",
   "execution_count": 9,
   "metadata": {},
   "outputs": [
    {
     "data": {
      "text/plain": [
       "(27, 28)"
      ]
     },
     "execution_count": 9,
     "metadata": {},
     "output_type": "execute_result"
    }
   ],
   "source": [
    "numbers[24],numbers[25]"
   ]
  },
  {
   "cell_type": "code",
   "execution_count": 6,
   "metadata": {},
   "outputs": [],
   "source": [
    "percent_25 = np.percentile(numbers,25)"
   ]
  },
  {
   "cell_type": "code",
   "execution_count": 7,
   "metadata": {},
   "outputs": [
    {
     "data": {
      "text/plain": [
       "27.75"
      ]
     },
     "execution_count": 7,
     "metadata": {},
     "output_type": "execute_result"
    }
   ],
   "source": [
    "percent_25"
   ]
  },
  {
   "cell_type": "code",
   "execution_count": 13,
   "metadata": {},
   "outputs": [],
   "source": [
    "from scipy import stats"
   ]
  },
  {
   "cell_type": "code",
   "execution_count": 14,
   "metadata": {},
   "outputs": [
    {
     "data": {
      "text/plain": [
       "ModeResult(mode=array([5]), count=array([4]))"
      ]
     },
     "execution_count": 14,
     "metadata": {},
     "output_type": "execute_result"
    }
   ],
   "source": [
    "stats.mode(numbers)"
   ]
  },
  {
   "cell_type": "code",
   "execution_count": 19,
   "metadata": {},
   "outputs": [],
   "source": [
    "from collections import Counter"
   ]
  },
  {
   "cell_type": "code",
   "execution_count": 20,
   "metadata": {
    "scrolled": true
   },
   "outputs": [
    {
     "data": {
      "text/plain": [
       "[(5, 4),\n",
       " (67, 4),\n",
       " (79, 4),\n",
       " (12, 3),\n",
       " (15, 3),\n",
       " (55, 3),\n",
       " (56, 3),\n",
       " (59, 3),\n",
       " (87, 3),\n",
       " (4, 2),\n",
       " (8, 2),\n",
       " (26, 2),\n",
       " (28, 2),\n",
       " (34, 2),\n",
       " (35, 2),\n",
       " (40, 2),\n",
       " (44, 2),\n",
       " (45, 2),\n",
       " (46, 2),\n",
       " (49, 2),\n",
       " (50, 2),\n",
       " (53, 2),\n",
       " (57, 2),\n",
       " (71, 2),\n",
       " (76, 2),\n",
       " (80, 2),\n",
       " (93, 2),\n",
       " (98, 2),\n",
       " (2, 1),\n",
       " (3, 1),\n",
       " (9, 1),\n",
       " (16, 1),\n",
       " (20, 1),\n",
       " (22, 1),\n",
       " (24, 1),\n",
       " (25, 1),\n",
       " (27, 1),\n",
       " (29, 1),\n",
       " (36, 1),\n",
       " (38, 1),\n",
       " (39, 1),\n",
       " (43, 1),\n",
       " (51, 1),\n",
       " (61, 1),\n",
       " (63, 1),\n",
       " (64, 1),\n",
       " (65, 1),\n",
       " (72, 1),\n",
       " (73, 1),\n",
       " (74, 1),\n",
       " (81, 1),\n",
       " (82, 1),\n",
       " (83, 1),\n",
       " (88, 1),\n",
       " (90, 1),\n",
       " (91, 1),\n",
       " (92, 1),\n",
       " (94, 1),\n",
       " (97, 1),\n",
       " (100, 1)]"
      ]
     },
     "execution_count": 20,
     "metadata": {},
     "output_type": "execute_result"
    }
   ],
   "source": [
    "Counter(numbers).most_common()"
   ]
  },
  {
   "cell_type": "code",
   "execution_count": 18,
   "metadata": {},
   "outputs": [
    {
     "data": {
      "text/plain": [
       "[(5, 4)]"
      ]
     },
     "execution_count": 18,
     "metadata": {},
     "output_type": "execute_result"
    }
   ],
   "source": [
    "Counter(numbers).most_common(1)"
   ]
  },
  {
   "cell_type": "code",
   "execution_count": 23,
   "metadata": {},
   "outputs": [],
   "source": [
    "std = np.std(numbers)"
   ]
  },
  {
   "cell_type": "code",
   "execution_count": 24,
   "metadata": {},
   "outputs": [],
   "source": [
    "mean = np.mean(numbers)"
   ]
  },
  {
   "cell_type": "code",
   "execution_count": 29,
   "metadata": {},
   "outputs": [
    {
     "data": {
      "text/plain": [
       "50.84"
      ]
     },
     "execution_count": 29,
     "metadata": {},
     "output_type": "execute_result"
    }
   ],
   "source": [
    "mean"
   ]
  },
  {
   "cell_type": "markdown",
   "metadata": {},
   "source": [
    "## 数据的标准化Normalization\n",
    "$$ X_{normalized} = \\frac{x-\\overline{x}}{x_{std}}$$\n",
    "\n",
    "### 经过标准化处理的数据 标准差 = 1，平均数 = 0"
   ]
  },
  {
   "cell_type": "code",
   "execution_count": 25,
   "metadata": {},
   "outputs": [],
   "source": [
    "X_normalized = [( x - mean)/std for x in numbers]"
   ]
  },
  {
   "cell_type": "code",
   "execution_count": 26,
   "metadata": {
    "scrolled": true
   },
   "outputs": [
    {
     "data": {
      "text/plain": [
       "[-1.7369080037856077,\n",
       " -1.7013447768448704,\n",
       " -1.6657815499041333,\n",
       " -1.6657815499041333,\n",
       " -1.630218322963396,\n",
       " -1.630218322963396,\n",
       " -1.630218322963396,\n",
       " -1.630218322963396,\n",
       " -1.5235286421411842,\n",
       " -1.5235286421411842,\n",
       " -1.487965415200447,\n",
       " -1.3812757343782351,\n",
       " -1.3812757343782351,\n",
       " -1.3812757343782351,\n",
       " -1.2745860535560234,\n",
       " -1.2745860535560234,\n",
       " -1.2745860535560234,\n",
       " -1.239022826615286,\n",
       " -1.0967699188523372,\n",
       " -1.0256434649708626,\n",
       " -0.9545170110893881,\n",
       " -0.9189537841486508,\n",
       " -0.8833905572079136,\n",
       " -0.8833905572079136,\n",
       " -0.8478273302671763,\n",
       " -0.8122641033264391,\n",
       " -0.8122641033264391,\n",
       " -0.7767008763857018,\n",
       " -0.5988847416820156,\n",
       " -0.5988847416820156,\n",
       " -0.5633215147412782,\n",
       " -0.5633215147412782,\n",
       " -0.527758287800541,\n",
       " -0.4566318339190665,\n",
       " -0.42106860697832926,\n",
       " -0.385505380037592,\n",
       " -0.385505380037592,\n",
       " -0.27881569921538024,\n",
       " -0.24325247227464294,\n",
       " -0.24325247227464294,\n",
       " -0.2076892453339057,\n",
       " -0.2076892453339057,\n",
       " -0.17212601839316843,\n",
       " -0.17212601839316843,\n",
       " -0.06543633757095667,\n",
       " -0.06543633757095667,\n",
       " -0.029873110630219416,\n",
       " -0.029873110630219416,\n",
       " 0.00569011631051784,\n",
       " 0.07681657019199235,\n",
       " 0.07681657019199235,\n",
       " 0.14794302407346688,\n",
       " 0.14794302407346688,\n",
       " 0.14794302407346688,\n",
       " 0.18350625101420412,\n",
       " 0.18350625101420412,\n",
       " 0.18350625101420412,\n",
       " 0.2190694779549414,\n",
       " 0.2190694779549414,\n",
       " 0.2901959318364159,\n",
       " 0.2901959318364159,\n",
       " 0.2901959318364159,\n",
       " 0.3613223857178904,\n",
       " 0.4324488395993649,\n",
       " 0.4680120665401022,\n",
       " 0.5035752934808394,\n",
       " 0.5747017473623139,\n",
       " 0.5747017473623139,\n",
       " 0.5747017473623139,\n",
       " 0.5747017473623139,\n",
       " 0.716954655125263,\n",
       " 0.716954655125263,\n",
       " 0.7525178820660002,\n",
       " 0.7880811090067374,\n",
       " 0.8236443359474748,\n",
       " 0.8947707898289493,\n",
       " 0.8947707898289493,\n",
       " 1.001460470651161,\n",
       " 1.001460470651161,\n",
       " 1.001460470651161,\n",
       " 1.001460470651161,\n",
       " 1.0370236975918983,\n",
       " 1.0370236975918983,\n",
       " 1.0725869245326356,\n",
       " 1.1081501514733727,\n",
       " 1.14371337841411,\n",
       " 1.285966286177059,\n",
       " 1.285966286177059,\n",
       " 1.285966286177059,\n",
       " 1.3215295131177964,\n",
       " 1.3926559669992709,\n",
       " 1.4282191939400082,\n",
       " 1.4637824208807453,\n",
       " 1.4993456478214826,\n",
       " 1.4993456478214826,\n",
       " 1.53490887476222,\n",
       " 1.6415985555844317,\n",
       " 1.677161782525169,\n",
       " 1.677161782525169,\n",
       " 1.7482882364066434]"
      ]
     },
     "execution_count": 26,
     "metadata": {},
     "output_type": "execute_result"
    }
   ],
   "source": [
    "X_normalized"
   ]
  },
  {
   "cell_type": "code",
   "execution_count": 27,
   "metadata": {},
   "outputs": [
    {
     "data": {
      "text/plain": [
       "1.0"
      ]
     },
     "execution_count": 27,
     "metadata": {},
     "output_type": "execute_result"
    }
   ],
   "source": [
    "np.std(X_normalized)"
   ]
  },
  {
   "cell_type": "code",
   "execution_count": 28,
   "metadata": {},
   "outputs": [
    {
     "data": {
      "text/plain": [
       "-9.547918011776346e-17"
      ]
     },
     "execution_count": 28,
     "metadata": {},
     "output_type": "execute_result"
    }
   ],
   "source": [
    "np.mean(X_normalized)"
   ]
  },
  {
   "cell_type": "markdown",
   "metadata": {},
   "source": [
    "## Outlier (反义词inlier)\n",
    "\n",
    "远离序列的一般水平的极端大值和极端小值"
   ]
  },
  {
   "cell_type": "code",
   "execution_count": 33,
   "metadata": {},
   "outputs": [],
   "source": [
    "percent_25_outlier = np.percentile(numbers,25) /1.5"
   ]
  },
  {
   "cell_type": "code",
   "execution_count": 34,
   "metadata": {},
   "outputs": [
    {
     "data": {
      "text/plain": [
       "[2, 3, 4, 4, 5, 5, 5, 5, 8, 8, 9, 12, 12, 12, 15, 15, 15, 16]"
      ]
     },
     "execution_count": 34,
     "metadata": {},
     "output_type": "execute_result"
    }
   ],
   "source": [
    "[n for n in numbers if  n < percent_25_outlier]"
   ]
  },
  {
   "cell_type": "code",
   "execution_count": 47,
   "metadata": {},
   "outputs": [
    {
     "data": {
      "text/plain": [
       "[96, 93, 96, 100, 93, 99, 100, 93, 99, 94]"
      ]
     },
     "execution_count": 47,
     "metadata": {},
     "output_type": "execute_result"
    }
   ],
   "source": [
    "[n for n in numbers if n > np.percentile(numbers,90)]"
   ]
  },
  {
   "cell_type": "code",
   "execution_count": 38,
   "metadata": {},
   "outputs": [],
   "source": [
    "import matplotlib.pyplot as plt\n",
    "%matplotlib inline"
   ]
  },
  {
   "cell_type": "code",
   "execution_count": 44,
   "metadata": {
    "scrolled": false
   },
   "outputs": [
    {
     "data": {
      "text/plain": [
       "<matplotlib.collections.PathCollection at 0x1a1ee88b00>"
      ]
     },
     "execution_count": 44,
     "metadata": {},
     "output_type": "execute_result"
    },
    {
     "data": {
      "image/png": "[encoded data removed]",
      "text/plain": [
       "<Figure size 720x432 with 1 Axes>"
      ]
     },
     "metadata": {
      "needs_background": "light"
     },
     "output_type": "display_data"
    }
   ],
   "source": [
    "plt.figure(figsize=(10,6))\n",
    "plt.scatter([x for x in range(len(numbers))],numbers)"
   ]
  },
  {
   "cell_type": "code",
   "execution_count": null,
   "metadata": {},
   "outputs": [],
   "source": []
  }
 ],
 "metadata": {
  "kernelspec": {
   "display_name": "Python 3",
   "language": "python",
   "name": "python3"
  },
  "language_info": {
   "codemirror_mode": {
    "name": "ipython",
    "version": 3
   },
   "file_extension": ".py",
   "mimetype": "text/x-python",
   "name": "python",
   "nbconvert_exporter": "python",
   "pygments_lexer": "ipython3",
   "version": "3.6.8"
  }
 },
 "nbformat": 4,
 "nbformat_minor": 2
}
