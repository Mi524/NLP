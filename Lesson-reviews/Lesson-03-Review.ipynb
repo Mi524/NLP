{
 "cells": [
  {
   "cell_type": "markdown",
   "metadata": {},
   "source": [
    "### 1. Re-code the titanic machine learning"
   ]
  },
  {
   "cell_type": "markdown",
   "metadata": {},
   "source": [
    "<p>1. Random Choose Method to get optimal k and b"
   ]
  },
  {
   "cell_type": "code",
   "execution_count": 1,
   "metadata": {},
   "outputs": [],
   "source": [
    "import pandas as pd \n",
    "import numpy as np \n",
    "import random\n",
    "import matplotlib.pyplot as plt \n",
    "\n",
    "path = '/Users/tracy/Documents/PythonProjects/Competition/Titannic/titanic/train.csv'"
   ]
  },
  {
   "cell_type": "code",
   "execution_count": 2,
   "metadata": {},
   "outputs": [],
   "source": [
    "content = pd.read_csv(path)\n",
    "content.dropna(how='any',inplace=True)"
   ]
  },
  {
   "cell_type": "code",
   "execution_count": 3,
   "metadata": {},
   "outputs": [],
   "source": [
    "age_with_fares = content[\n",
    " \t(content['Age']>22) & (content['Fare']< 400)&(content['Fare']>130)\n",
    "]\n",
    "sub_fare = age_with_fares['Fare']\n",
    "sub_age = age_with_fares['Age']\n",
    "\n",
    "def func(age,k,b):\n",
    "\treturn k * age + b\n",
    "\n",
    "def loss(y,yhat):\n",
    "\t\"\"\"\n",
    "\t:param y: the real fares\n",
    "\t:param yhat: the estimated fares\n",
    "\t:return : the distance between real fare and estimated fare\n",
    "\t\"\"\"\n",
    "\treturn np.mean(np.abs(y-yhat))"
   ]
  },
  {
   "cell_type": "code",
   "execution_count": 4,
   "metadata": {},
   "outputs": [
    {
     "name": "stdout",
     "output_type": "stream",
     "text": [
      "f(age) = None * age + None,with error rate:145.8596421052632\n",
      "f(age) = None * age + None,with error rate:114.03728421052631\n",
      "f(age) = None * age + None,with error rate:66.9991263157895\n",
      "f(age) = None * age + None,with error rate:61.3149157894737\n",
      "f(age) = None * age + None,with error rate:61.26228421052633\n",
      "f(age) = None * age + None,with error rate:61.20965263157896\n"
     ]
    },
    {
     "data": {
      "image/png": "[encoded data removed]",
      "text/plain": [
       "<Figure size 432x288 with 1 Axes>"
      ]
     },
     "metadata": {
      "needs_background": "light"
     },
     "output_type": "display_data"
    }
   ],
   "source": [
    "min_error_rate = float('inf')\n",
    "best_k,best_b = None,None\n",
    "\n",
    "losses = []\n",
    "loop_times = 1000\n",
    "while loop_times>0:\n",
    "\tk_hat = random.randint(-10,10)\n",
    "\tb_hat = random.randint(-10,10)\n",
    "\testimated_fares = func(sub_age,k_hat,b_hat)\n",
    "\terror_rate = loss(y=sub_fare,yhat=estimated_fares)\n",
    "\tif error_rate < min_error_rate:\n",
    "\t\tmin_error_rate = error_rate\n",
    "\t\tlosses.append(min_error_rate)\n",
    "\t\tprint(\"f(age) = {} * age + {},with error rate:{}\".format(best_k,best_b,min_error_rate))\n",
    "\tloop_times -=1\n",
    "\n",
    "plt.scatter(sub_age,sub_fare)\n",
    "plt.plot(sub_age,estimated_fares,c='r')\n",
    "plt.show()"
   ]
  },
  {
   "cell_type": "code",
   "execution_count": 5,
   "metadata": {},
   "outputs": [
    {
     "data": {
      "image/png": "[encoded data removed]",
      "text/plain": [
       "<Figure size 432x288 with 1 Axes>"
      ]
     },
     "metadata": {
      "needs_background": "light"
     },
     "output_type": "display_data"
    }
   ],
   "source": [
    "plt.plot(range(len(losses)),losses)\n",
    "plt.show()"
   ]
  },
  {
   "cell_type": "markdown",
   "metadata": {},
   "source": [
    "<p>2.Supervised Direction to get optimal k and b\n"
   ]
  },
  {
   "cell_type": "code",
   "execution_count": 40,
   "metadata": {},
   "outputs": [],
   "source": [
    "import pandas as pd \n",
    "import numpy as np \n",
    "import random\n",
    "import matplotlib.pyplot as plt \n",
    "\n",
    "path = '/Users/tracy/Documents/PythonProjects/Competition/Titannic/titanic/train.csv'\n",
    "\n",
    "content = pd.read_csv(path)\n",
    "content.dropna(how='any',inplace=True)\n",
    "\n",
    "age_with_fares = content[\n",
    " \t(content['Age']>22) & (content['Fare']< 400)&(content['Fare']>130)\n",
    "]\n",
    "sub_fare = age_with_fares['Fare']\n",
    "sub_age = age_with_fares['Age']\n",
    "\n",
    "def func(age,k,b):\n",
    "\treturn k * age + b\n",
    "\n",
    "def loss(y,yhat):\n",
    "\t\"\"\"\n",
    "\t:param y: the real fares\n",
    "\t:param yhat: the estimated fares\n",
    "\t:return : the distance between real fare and estimated fare\n",
    "\t\"\"\"\n",
    "\treturn np.mean(np.abs(y-yhat))\n",
    "\n",
    "min_error_rate = float('inf')\n",
    "\n",
    "losses = []\n",
    "loop_times = 10000\n",
    "\n",
    "change_directions = [\n",
    "    (+1,-1),\n",
    "    (+1,+1),\n",
    "    (-1,+1),\n",
    "    (-1,-1)   ]\n",
    "\n",
    "best_k = random.random() * 20 -10\n",
    "best_b = random.random() * 20 -10\n",
    "\n",
    "def step(): return random.random() * 1 \n",
    "\n",
    "while loop_times > 0:\n",
    "\n",
    "\tk_delta_direction, b_delta_direction = random.choice(change_directions )\n",
    "\n",
    "\tk_delta = k_delta_direction * step()\n",
    "\tb_delta = b_delta_direction * step()\n",
    "\n",
    "\tnew_k = best_k + k_delta\n",
    "\tnew_b = best_b + b_delta \n",
    "\n",
    "\testimated_fares = func(sub_age,new_k,new_b)\n",
    "\terror_rate = loss(y=sub_fare,yhat=estimated_fares)\n",
    "\tif error_rate < min_error_rate :\n",
    "\t\tmin_error_rate = error_rate\n",
    "\t\tbest_k,best_b = new_k,new_b\n",
    "        \n",
    "\t\tdirection = (k_delta_direction,b_delta_direction)\n",
    "\t\t#print('loop == {}'.format(loop_times))\n",
    "\t\tlosses.append(min_error_rate)\n",
    "\t\t#print(\"f(age) = {} * age + {},with error rate:{}\".format(best_k,best_b,min_error_rate))\n",
    "\telse:\n",
    "\t\tdirection = direction = random.choice(list(set(change_directions) - {(k_delta_direction,b_delta_direction)}))\n",
    "\tloop_times -= 1"
   ]
  },
  {
   "cell_type": "code",
   "execution_count": 7,
   "metadata": {},
   "outputs": [
    {
     "data": {
      "image/png": "[encoded data removed]",
      "text/plain": [
       "<Figure size 432x288 with 1 Axes>"
      ]
     },
     "metadata": {
      "needs_background": "light"
     },
     "output_type": "display_data"
    }
   ],
   "source": [
    "plt.plot(range(len(losses)),losses)\n",
    "plt.show()"
   ]
  },
  {
   "cell_type": "markdown",
   "metadata": {},
   "source": [
    "<p>3.Gradient Descent to get optimal k and b"
   ]
  },
  {
   "cell_type": "code",
   "execution_count": 41,
   "metadata": {},
   "outputs": [],
   "source": [
    "def func(age,k,b):\n",
    "\treturn k * age + b\n",
    "\n",
    "def loss(y,yhat):\n",
    "\t\"\"\"\n",
    "\t:param y: the real fares\n",
    "\t:param yhat: the estimated fares\n",
    "\t:return : the distance between real fare and estimated fare\n",
    "\t\"\"\"\n",
    "\treturn np.mean(np.abs(y-yhat))\n",
    "\n",
    "losses = []\n",
    "loop_times = 10000\n",
    "\n",
    "k_hat = random.random() * 20 -10\n",
    "b_hat = random.random() * 20 -10\n",
    "\n",
    "def derivate_k(y,yhat,x):\n",
    "\t abs_values = [1 if (y_i - yhat_i) >0 else -1 for y_i,yhat_i in zip(y,yhat)]\n",
    "\t return np.mean([a * -x_i for a, x_i in zip(abs_values,x)])\n",
    "\n",
    "def derivate_b(y,yhat):\n",
    "\tabs_values = [1 if (y_i - yhat_i) >0 else -1 for y_i,yhat_i in zip(y,yhat)]\n",
    "\treturn np.mean([a * -1 for a in abs_values])\n",
    "\n",
    "learning_rate  = 1e-1\n",
    "\n",
    "while loop_times > 0:\n",
    "\tk_delta = -1 * learning_rate * derivate_k(sub_fare,func(sub_age,k_hat,b_hat),sub_age)\n",
    "\tb_delta = -1 * learning_rate * derivate_b(sub_fare,func(sub_age,k_hat,b_hat))\n",
    "\n",
    "\tk_hat += k_delta \n",
    "\tb_hat += b_delta \n",
    "\n",
    "\testimated_fares = func(sub_age,k_hat,b_hat)\n",
    "\terror_rate = loss(y=sub_fare,yhat=estimated_fares)\n",
    "\n",
    "# \tprint('loop == {}'.format(loop_times))\n",
    "# \tprint(\"f(age) = {} * age + {},with error rate:{}\".format(k_hat,b_hat,error_rate))\n",
    "\tlosses.append(error_rate)\n",
    "\tloop_times -= 1"
   ]
  }
 ],
 "metadata": {
  "kernelspec": {
   "display_name": "Python 3",
   "language": "python",
   "name": "python3"
  },
  "language_info": {
   "codemirror_mode": {
    "name": "ipython",
    "version": 3
   },
   "file_extension": ".py",
   "mimetype": "text/x-python",
   "name": "python",
   "nbconvert_exporter": "python",
   "pygments_lexer": "ipython3",
   "version": "3.6.8"
  }
 },
 "nbformat": 4,
 "nbformat_minor": 2
}
