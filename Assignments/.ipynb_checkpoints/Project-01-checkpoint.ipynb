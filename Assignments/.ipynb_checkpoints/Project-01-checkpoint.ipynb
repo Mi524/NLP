{
 "cells": [
  {
   "cell_type": "code",
   "execution_count": 1,
   "metadata": {},
   "outputs": [
    {
     "name": "stderr",
     "output_type": "stream",
     "text": [
      "/Users/tracy/anaconda3/lib/python3.6/site-packages/smart_open/ssh.py:34: UserWarning: paramiko missing, opening SSH/SCP/SFTP paths will be disabled.  `pip install paramiko` to suppress\n",
      "  warnings.warn('paramiko missing, opening SSH/SCP/SFTP paths will be disabled.  `pip install paramiko` to suppress')\n"
     ]
    }
   ],
   "source": [
    "import pandas as pd \n",
    "import numpy as np\n",
    "import jieba\n",
    "from gensim.models.word2vec import Word2Vec\n",
    "from gensim.models.word2vec import LineSentence\n",
    "from sqlalchemy import create_engine\n",
    "from sqlalchemy.pool import NullPool\n",
    "import os\n",
    "from bs4 import BeautifulSoup\n",
    "from hanziconv import HanziConv\n",
    "from tqdm import tqdm_notebook as tqdm\n",
    "import re\n",
    "from collections import defaultdict\n",
    "import logging\n",
    "import warnings\n",
    "warnings.simplefilter('ignore')\n",
    "logging.basicConfig(format='%(asctime)s : %(levelname)s : %(massage)s',level=logging.ERROR)"
   ]
  },
  {
   "cell_type": "code",
   "execution_count": 2,
   "metadata": {},
   "outputs": [],
   "source": [
    "#读新闻内容\n",
    "news_content = pd.read_csv('/Users/tracy/GithubFiles/sqlResult_1558435.csv')['content'].tolist()"
   ]
  },
  {
   "cell_type": "code",
   "execution_count": 3,
   "metadata": {},
   "outputs": [],
   "source": [
    "news_content = news_content[:40000]"
   ]
  },
  {
   "cell_type": "code",
   "execution_count": 4,
   "metadata": {},
   "outputs": [],
   "source": [
    "wiki_path = '/Users/tracy/GithubFiles/wiki_dump/AA/'\n",
    "wiki_list = os.listdir(wiki_path)\n",
    "# wiki_list.sort()"
   ]
  },
  {
   "cell_type": "code",
   "execution_count": 5,
   "metadata": {},
   "outputs": [],
   "source": [
    "wiki_content = []\n",
    "for path in wiki_list[:10]:\n",
    "    with open( wiki_path + path ,'r',encoding='utf-8') as f:\n",
    "        lines = f.read()\n",
    "        lines = BeautifulSoup(lines,'lxml')\n",
    "        docs = lines.find_all('doc')\n",
    "        for d in docs:\n",
    "            d_text = d.text\n",
    "            wiki_content.append(d_text)"
   ]
  },
  {
   "cell_type": "code",
   "execution_count": 6,
   "metadata": {},
   "outputs": [],
   "source": [
    "content = news_content + wiki_content"
   ]
  },
  {
   "cell_type": "code",
   "execution_count": 7,
   "metadata": {},
   "outputs": [
    {
     "data": {
      "application/vnd.jupyter.widget-view+json": {
       "model_id": "77dcdccfcb0c4262b812faa28ed77873",
       "version_major": 2,
       "version_minor": 0
      },
      "text/plain": [
       "HBox(children=(IntProgress(value=0, max=60867), HTML(value='')))"
      ]
     },
     "metadata": {},
     "output_type": "display_data"
    },
    {
     "name": "stdout",
     "output_type": "stream",
     "text": [
      "\n"
     ]
    }
   ],
   "source": [
    "content = [HanziConv.toSimplified(x) for x in tqdm(content) if type(x) == str and len(x)>5 ]"
   ]
  },
  {
   "cell_type": "markdown",
   "metadata": {},
   "source": [
    "### 清洗"
   ]
  },
  {
   "cell_type": "code",
   "execution_count": 8,
   "metadata": {},
   "outputs": [],
   "source": [
    "def token(string):\n",
    "    return ' '.join(re.findall('[\\w]+',string))"
   ]
  },
  {
   "cell_type": "code",
   "execution_count": 9,
   "metadata": {},
   "outputs": [],
   "source": [
    "content_1 = [token(x) for x in content]"
   ]
  },
  {
   "cell_type": "code",
   "execution_count": 10,
   "metadata": {},
   "outputs": [
    {
     "data": {
      "text/plain": [
       "'此外，自本周（6月12日）起，除小米手机6等15款机型外，其余机型已暂停更新发布（含开发版/体验版内测，稳定版暂不受影响），以确保工程师可以集中全部精力进行系统优化工作。有人猜测这也是将精力主要用到MIUI 9的研发之中。\\nMIUI 8去年5月发布，距今已有一年有余，也是时候更新换代了。\\n当然，关于MIUI 9的确切信息，我们还是等待官方消息。\\n'"
      ]
     },
     "execution_count": 10,
     "metadata": {},
     "output_type": "execute_result"
    }
   ],
   "source": [
    "content[0]"
   ]
  },
  {
   "cell_type": "markdown",
   "metadata": {},
   "source": [
    "### 分词"
   ]
  },
  {
   "cell_type": "code",
   "execution_count": 11,
   "metadata": {},
   "outputs": [
    {
     "data": {
      "application/vnd.jupyter.widget-view+json": {
       "model_id": "073021444fa04fffa6f877bdb5d5eab2",
       "version_major": 2,
       "version_minor": 0
      },
      "text/plain": [
       "HBox(children=(IntProgress(value=0, max=58178), HTML(value='')))"
      ]
     },
     "metadata": {},
     "output_type": "display_data"
    },
    {
     "name": "stderr",
     "output_type": "stream",
     "text": [
      "Building prefix dict from the default dictionary ...\n",
      "--- Logging error ---\n",
      "Traceback (most recent call last):\n",
      "  File \"/Users/tracy/anaconda3/lib/python3.6/logging/__init__.py\", line 994, in emit\n",
      "    msg = self.format(record)\n",
      "  File \"/Users/tracy/anaconda3/lib/python3.6/logging/__init__.py\", line 840, in format\n",
      "    return fmt.format(record)\n",
      "  File \"/Users/tracy/anaconda3/lib/python3.6/logging/__init__.py\", line 580, in format\n",
      "    s = self.formatMessage(record)\n",
      "  File \"/Users/tracy/anaconda3/lib/python3.6/logging/__init__.py\", line 549, in formatMessage\n",
      "    return self._style.format(record)\n",
      "  File \"/Users/tracy/anaconda3/lib/python3.6/logging/__init__.py\", line 391, in format\n",
      "    return self._fmt % record.__dict__\n",
      "KeyError: 'massage'\n",
      "Call stack:\n",
      "  File \"/Users/tracy/anaconda3/lib/python3.6/runpy.py\", line 193, in _run_module_as_main\n",
      "    \"__main__\", mod_spec)\n",
      "  File \"/Users/tracy/anaconda3/lib/python3.6/runpy.py\", line 85, in _run_code\n",
      "    exec(code, run_globals)\n",
      "  File \"/Users/tracy/anaconda3/lib/python3.6/site-packages/ipykernel_launcher.py\", line 16, in <module>\n",
      "    app.launch_new_instance()\n",
      "  File \"/Users/tracy/anaconda3/lib/python3.6/site-packages/traitlets/config/application.py\", line 658, in launch_instance\n",
      "    app.start()\n",
      "  File \"/Users/tracy/anaconda3/lib/python3.6/site-packages/ipykernel/kernelapp.py\", line 505, in start\n",
      "    self.io_loop.start()\n",
      "  File \"/Users/tracy/anaconda3/lib/python3.6/site-packages/tornado/platform/asyncio.py\", line 148, in start\n",
      "    self.asyncio_loop.run_forever()\n",
      "  File \"/Users/tracy/anaconda3/lib/python3.6/asyncio/base_events.py\", line 438, in run_forever\n",
      "    self._run_once()\n",
      "  File \"/Users/tracy/anaconda3/lib/python3.6/asyncio/base_events.py\", line 1451, in _run_once\n",
      "    handle._run()\n",
      "  File \"/Users/tracy/anaconda3/lib/python3.6/asyncio/events.py\", line 145, in _run\n",
      "    self._callback(*self._args)\n",
      "  File \"/Users/tracy/anaconda3/lib/python3.6/site-packages/tornado/ioloop.py\", line 690, in <lambda>\n",
      "    lambda f: self._run_callback(functools.partial(callback, future))\n",
      "  File \"/Users/tracy/anaconda3/lib/python3.6/site-packages/tornado/ioloop.py\", line 743, in _run_callback\n",
      "    ret = callback()\n",
      "  File \"/Users/tracy/anaconda3/lib/python3.6/site-packages/tornado/gen.py\", line 781, in inner\n",
      "    self.run()\n",
      "  File \"/Users/tracy/anaconda3/lib/python3.6/site-packages/tornado/gen.py\", line 742, in run\n",
      "    yielded = self.gen.send(value)\n",
      "  File \"/Users/tracy/anaconda3/lib/python3.6/site-packages/ipykernel/kernelbase.py\", line 357, in process_one\n",
      "    yield gen.maybe_future(dispatch(*args))\n",
      "  File \"/Users/tracy/anaconda3/lib/python3.6/site-packages/tornado/gen.py\", line 209, in wrapper\n",
      "    yielded = next(result)\n",
      "  File \"/Users/tracy/anaconda3/lib/python3.6/site-packages/ipykernel/kernelbase.py\", line 267, in dispatch_shell\n",
      "    yield gen.maybe_future(handler(stream, idents, msg))\n",
      "  File \"/Users/tracy/anaconda3/lib/python3.6/site-packages/tornado/gen.py\", line 209, in wrapper\n",
      "    yielded = next(result)\n",
      "  File \"/Users/tracy/anaconda3/lib/python3.6/site-packages/ipykernel/kernelbase.py\", line 534, in execute_request\n",
      "    user_expressions, allow_stdin,\n",
      "  File \"/Users/tracy/anaconda3/lib/python3.6/site-packages/tornado/gen.py\", line 209, in wrapper\n",
      "    yielded = next(result)\n",
      "  File \"/Users/tracy/anaconda3/lib/python3.6/site-packages/ipykernel/ipkernel.py\", line 294, in do_execute\n",
      "    res = shell.run_cell(code, store_history=store_history, silent=silent)\n",
      "  File \"/Users/tracy/anaconda3/lib/python3.6/site-packages/ipykernel/zmqshell.py\", line 536, in run_cell\n",
      "    return super(ZMQInteractiveShell, self).run_cell(*args, **kwargs)\n",
      "  File \"/Users/tracy/anaconda3/lib/python3.6/site-packages/IPython/core/interactiveshell.py\", line 2848, in run_cell\n",
      "    raw_cell, store_history, silent, shell_futures)\n",
      "  File \"/Users/tracy/anaconda3/lib/python3.6/site-packages/IPython/core/interactiveshell.py\", line 2874, in _run_cell\n",
      "    return runner(coro)\n",
      "  File \"/Users/tracy/anaconda3/lib/python3.6/site-packages/IPython/core/async_helpers.py\", line 67, in _pseudo_sync_runner\n",
      "    coro.send(None)\n",
      "  File \"/Users/tracy/anaconda3/lib/python3.6/site-packages/IPython/core/interactiveshell.py\", line 3049, in run_cell_async\n",
      "    interactivity=interactivity, compiler=compiler, result=result)\n",
      "  File \"/Users/tracy/anaconda3/lib/python3.6/site-packages/IPython/core/interactiveshell.py\", line 3214, in run_ast_nodes\n",
      "    if (yield from self.run_code(code, result)):\n",
      "  File \"/Users/tracy/anaconda3/lib/python3.6/site-packages/IPython/core/interactiveshell.py\", line 3296, in run_code\n",
      "    exec(code_obj, self.user_global_ns, self.user_ns)\n",
      "  File \"<ipython-input-11-0c61e16b1d70>\", line 1, in <module>\n",
      "    tokens_1 = [ ' '.join(jieba.lcut(x)) for x in tqdm(content_1) ]\n",
      "  File \"<ipython-input-11-0c61e16b1d70>\", line 1, in <listcomp>\n",
      "    tokens_1 = [ ' '.join(jieba.lcut(x)) for x in tqdm(content_1) ]\n",
      "  File \"/Users/tracy/anaconda3/lib/python3.6/site-packages/jieba/__init__.py\", line 333, in lcut\n",
      "    return list(self.cut(*args, **kwargs))\n",
      "  File \"/Users/tracy/anaconda3/lib/python3.6/site-packages/jieba/__init__.py\", line 301, in cut\n",
      "    for word in cut_block(blk):\n",
      "  File \"/Users/tracy/anaconda3/lib/python3.6/site-packages/jieba/__init__.py\", line 233, in __cut_DAG\n",
      "    DAG = self.get_DAG(sentence)\n",
      "  File \"/Users/tracy/anaconda3/lib/python3.6/site-packages/jieba/__init__.py\", line 179, in get_DAG\n",
      "    self.check_initialized()\n",
      "  File \"/Users/tracy/anaconda3/lib/python3.6/site-packages/jieba/__init__.py\", line 168, in check_initialized\n",
      "    self.initialize()\n",
      "  File \"/Users/tracy/anaconda3/lib/python3.6/site-packages/jieba/__init__.py\", line 111, in initialize\n",
      "    default_logger.debug(\"Building prefix dict from %s ...\" % (abs_path or 'the default dictionary'))\n",
      "Message: 'Building prefix dict from the default dictionary ...'\n",
      "Arguments: ()\n",
      "Loading model from cache /var/folders/wy/v0gb2_ds3716l6fjs3x1nvkc0000gn/T/jieba.cache\n",
      "--- Logging error ---\n",
      "Traceback (most recent call last):\n",
      "  File \"/Users/tracy/anaconda3/lib/python3.6/logging/__init__.py\", line 994, in emit\n",
      "    msg = self.format(record)\n",
      "  File \"/Users/tracy/anaconda3/lib/python3.6/logging/__init__.py\", line 840, in format\n",
      "    return fmt.format(record)\n",
      "  File \"/Users/tracy/anaconda3/lib/python3.6/logging/__init__.py\", line 580, in format\n",
      "    s = self.formatMessage(record)\n",
      "  File \"/Users/tracy/anaconda3/lib/python3.6/logging/__init__.py\", line 549, in formatMessage\n",
      "    return self._style.format(record)\n",
      "  File \"/Users/tracy/anaconda3/lib/python3.6/logging/__init__.py\", line 391, in format\n",
      "    return self._fmt % record.__dict__\n",
      "KeyError: 'massage'\n",
      "Call stack:\n",
      "  File \"/Users/tracy/anaconda3/lib/python3.6/runpy.py\", line 193, in _run_module_as_main\n",
      "    \"__main__\", mod_spec)\n",
      "  File \"/Users/tracy/anaconda3/lib/python3.6/runpy.py\", line 85, in _run_code\n",
      "    exec(code, run_globals)\n",
      "  File \"/Users/tracy/anaconda3/lib/python3.6/site-packages/ipykernel_launcher.py\", line 16, in <module>\n",
      "    app.launch_new_instance()\n",
      "  File \"/Users/tracy/anaconda3/lib/python3.6/site-packages/traitlets/config/application.py\", line 658, in launch_instance\n",
      "    app.start()\n",
      "  File \"/Users/tracy/anaconda3/lib/python3.6/site-packages/ipykernel/kernelapp.py\", line 505, in start\n",
      "    self.io_loop.start()\n",
      "  File \"/Users/tracy/anaconda3/lib/python3.6/site-packages/tornado/platform/asyncio.py\", line 148, in start\n",
      "    self.asyncio_loop.run_forever()\n",
      "  File \"/Users/tracy/anaconda3/lib/python3.6/asyncio/base_events.py\", line 438, in run_forever\n",
      "    self._run_once()\n",
      "  File \"/Users/tracy/anaconda3/lib/python3.6/asyncio/base_events.py\", line 1451, in _run_once\n",
      "    handle._run()\n",
      "  File \"/Users/tracy/anaconda3/lib/python3.6/asyncio/events.py\", line 145, in _run\n",
      "    self._callback(*self._args)\n",
      "  File \"/Users/tracy/anaconda3/lib/python3.6/site-packages/tornado/ioloop.py\", line 690, in <lambda>\n",
      "    lambda f: self._run_callback(functools.partial(callback, future))\n",
      "  File \"/Users/tracy/anaconda3/lib/python3.6/site-packages/tornado/ioloop.py\", line 743, in _run_callback\n",
      "    ret = callback()\n",
      "  File \"/Users/tracy/anaconda3/lib/python3.6/site-packages/tornado/gen.py\", line 781, in inner\n",
      "    self.run()\n",
      "  File \"/Users/tracy/anaconda3/lib/python3.6/site-packages/tornado/gen.py\", line 742, in run\n",
      "    yielded = self.gen.send(value)\n",
      "  File \"/Users/tracy/anaconda3/lib/python3.6/site-packages/ipykernel/kernelbase.py\", line 357, in process_one\n",
      "    yield gen.maybe_future(dispatch(*args))\n",
      "  File \"/Users/tracy/anaconda3/lib/python3.6/site-packages/tornado/gen.py\", line 209, in wrapper\n",
      "    yielded = next(result)\n",
      "  File \"/Users/tracy/anaconda3/lib/python3.6/site-packages/ipykernel/kernelbase.py\", line 267, in dispatch_shell\n",
      "    yield gen.maybe_future(handler(stream, idents, msg))\n",
      "  File \"/Users/tracy/anaconda3/lib/python3.6/site-packages/tornado/gen.py\", line 209, in wrapper\n",
      "    yielded = next(result)\n",
      "  File \"/Users/tracy/anaconda3/lib/python3.6/site-packages/ipykernel/kernelbase.py\", line 534, in execute_request\n",
      "    user_expressions, allow_stdin,\n",
      "  File \"/Users/tracy/anaconda3/lib/python3.6/site-packages/tornado/gen.py\", line 209, in wrapper\n",
      "    yielded = next(result)\n",
      "  File \"/Users/tracy/anaconda3/lib/python3.6/site-packages/ipykernel/ipkernel.py\", line 294, in do_execute\n",
      "    res = shell.run_cell(code, store_history=store_history, silent=silent)\n",
      "  File \"/Users/tracy/anaconda3/lib/python3.6/site-packages/ipykernel/zmqshell.py\", line 536, in run_cell\n",
      "    return super(ZMQInteractiveShell, self).run_cell(*args, **kwargs)\n",
      "  File \"/Users/tracy/anaconda3/lib/python3.6/site-packages/IPython/core/interactiveshell.py\", line 2848, in run_cell\n",
      "    raw_cell, store_history, silent, shell_futures)\n",
      "  File \"/Users/tracy/anaconda3/lib/python3.6/site-packages/IPython/core/interactiveshell.py\", line 2874, in _run_cell\n",
      "    return runner(coro)\n",
      "  File \"/Users/tracy/anaconda3/lib/python3.6/site-packages/IPython/core/async_helpers.py\", line 67, in _pseudo_sync_runner\n",
      "    coro.send(None)\n",
      "  File \"/Users/tracy/anaconda3/lib/python3.6/site-packages/IPython/core/interactiveshell.py\", line 3049, in run_cell_async\n",
      "    interactivity=interactivity, compiler=compiler, result=result)\n",
      "  File \"/Users/tracy/anaconda3/lib/python3.6/site-packages/IPython/core/interactiveshell.py\", line 3214, in run_ast_nodes\n",
      "    if (yield from self.run_code(code, result)):\n",
      "  File \"/Users/tracy/anaconda3/lib/python3.6/site-packages/IPython/core/interactiveshell.py\", line 3296, in run_code\n",
      "    exec(code_obj, self.user_global_ns, self.user_ns)\n",
      "  File \"<ipython-input-11-0c61e16b1d70>\", line 1, in <module>\n",
      "    tokens_1 = [ ' '.join(jieba.lcut(x)) for x in tqdm(content_1) ]\n",
      "  File \"<ipython-input-11-0c61e16b1d70>\", line 1, in <listcomp>\n",
      "    tokens_1 = [ ' '.join(jieba.lcut(x)) for x in tqdm(content_1) ]\n",
      "  File \"/Users/tracy/anaconda3/lib/python3.6/site-packages/jieba/__init__.py\", line 333, in lcut\n",
      "    return list(self.cut(*args, **kwargs))\n",
      "  File \"/Users/tracy/anaconda3/lib/python3.6/site-packages/jieba/__init__.py\", line 301, in cut\n",
      "    for word in cut_block(blk):\n",
      "  File \"/Users/tracy/anaconda3/lib/python3.6/site-packages/jieba/__init__.py\", line 233, in __cut_DAG\n",
      "    DAG = self.get_DAG(sentence)\n",
      "  File \"/Users/tracy/anaconda3/lib/python3.6/site-packages/jieba/__init__.py\", line 179, in get_DAG\n",
      "    self.check_initialized()\n",
      "  File \"/Users/tracy/anaconda3/lib/python3.6/site-packages/jieba/__init__.py\", line 168, in check_initialized\n",
      "    self.initialize()\n",
      "  File \"/Users/tracy/anaconda3/lib/python3.6/site-packages/jieba/__init__.py\", line 131, in initialize\n",
      "    \"Loading model from cache %s\" % cache_file)\n",
      "Message: 'Loading model from cache /var/folders/wy/v0gb2_ds3716l6fjs3x1nvkc0000gn/T/jieba.cache'\n",
      "Arguments: ()\n"
     ]
    },
    {
     "name": "stderr",
     "output_type": "stream",
     "text": [
      "Loading model cost 0.713 seconds.\n",
      "--- Logging error ---\n",
      "Traceback (most recent call last):\n",
      "  File \"/Users/tracy/anaconda3/lib/python3.6/logging/__init__.py\", line 994, in emit\n",
      "    msg = self.format(record)\n",
      "  File \"/Users/tracy/anaconda3/lib/python3.6/logging/__init__.py\", line 840, in format\n",
      "    return fmt.format(record)\n",
      "  File \"/Users/tracy/anaconda3/lib/python3.6/logging/__init__.py\", line 580, in format\n",
      "    s = self.formatMessage(record)\n",
      "  File \"/Users/tracy/anaconda3/lib/python3.6/logging/__init__.py\", line 549, in formatMessage\n",
      "    return self._style.format(record)\n",
      "  File \"/Users/tracy/anaconda3/lib/python3.6/logging/__init__.py\", line 391, in format\n",
      "    return self._fmt % record.__dict__\n",
      "KeyError: 'massage'\n",
      "Call stack:\n",
      "  File \"/Users/tracy/anaconda3/lib/python3.6/runpy.py\", line 193, in _run_module_as_main\n",
      "    \"__main__\", mod_spec)\n",
      "  File \"/Users/tracy/anaconda3/lib/python3.6/runpy.py\", line 85, in _run_code\n",
      "    exec(code, run_globals)\n",
      "  File \"/Users/tracy/anaconda3/lib/python3.6/site-packages/ipykernel_launcher.py\", line 16, in <module>\n",
      "    app.launch_new_instance()\n",
      "  File \"/Users/tracy/anaconda3/lib/python3.6/site-packages/traitlets/config/application.py\", line 658, in launch_instance\n",
      "    app.start()\n",
      "  File \"/Users/tracy/anaconda3/lib/python3.6/site-packages/ipykernel/kernelapp.py\", line 505, in start\n",
      "    self.io_loop.start()\n",
      "  File \"/Users/tracy/anaconda3/lib/python3.6/site-packages/tornado/platform/asyncio.py\", line 148, in start\n",
      "    self.asyncio_loop.run_forever()\n",
      "  File \"/Users/tracy/anaconda3/lib/python3.6/asyncio/base_events.py\", line 438, in run_forever\n",
      "    self._run_once()\n",
      "  File \"/Users/tracy/anaconda3/lib/python3.6/asyncio/base_events.py\", line 1451, in _run_once\n",
      "    handle._run()\n",
      "  File \"/Users/tracy/anaconda3/lib/python3.6/asyncio/events.py\", line 145, in _run\n",
      "    self._callback(*self._args)\n",
      "  File \"/Users/tracy/anaconda3/lib/python3.6/site-packages/tornado/ioloop.py\", line 690, in <lambda>\n",
      "    lambda f: self._run_callback(functools.partial(callback, future))\n",
      "  File \"/Users/tracy/anaconda3/lib/python3.6/site-packages/tornado/ioloop.py\", line 743, in _run_callback\n",
      "    ret = callback()\n",
      "  File \"/Users/tracy/anaconda3/lib/python3.6/site-packages/tornado/gen.py\", line 781, in inner\n",
      "    self.run()\n",
      "  File \"/Users/tracy/anaconda3/lib/python3.6/site-packages/tornado/gen.py\", line 742, in run\n",
      "    yielded = self.gen.send(value)\n",
      "  File \"/Users/tracy/anaconda3/lib/python3.6/site-packages/ipykernel/kernelbase.py\", line 357, in process_one\n",
      "    yield gen.maybe_future(dispatch(*args))\n",
      "  File \"/Users/tracy/anaconda3/lib/python3.6/site-packages/tornado/gen.py\", line 209, in wrapper\n",
      "    yielded = next(result)\n",
      "  File \"/Users/tracy/anaconda3/lib/python3.6/site-packages/ipykernel/kernelbase.py\", line 267, in dispatch_shell\n",
      "    yield gen.maybe_future(handler(stream, idents, msg))\n",
      "  File \"/Users/tracy/anaconda3/lib/python3.6/site-packages/tornado/gen.py\", line 209, in wrapper\n",
      "    yielded = next(result)\n",
      "  File \"/Users/tracy/anaconda3/lib/python3.6/site-packages/ipykernel/kernelbase.py\", line 534, in execute_request\n",
      "    user_expressions, allow_stdin,\n",
      "  File \"/Users/tracy/anaconda3/lib/python3.6/site-packages/tornado/gen.py\", line 209, in wrapper\n",
      "    yielded = next(result)\n",
      "  File \"/Users/tracy/anaconda3/lib/python3.6/site-packages/ipykernel/ipkernel.py\", line 294, in do_execute\n",
      "    res = shell.run_cell(code, store_history=store_history, silent=silent)\n",
      "  File \"/Users/tracy/anaconda3/lib/python3.6/site-packages/ipykernel/zmqshell.py\", line 536, in run_cell\n",
      "    return super(ZMQInteractiveShell, self).run_cell(*args, **kwargs)\n",
      "  File \"/Users/tracy/anaconda3/lib/python3.6/site-packages/IPython/core/interactiveshell.py\", line 2848, in run_cell\n",
      "    raw_cell, store_history, silent, shell_futures)\n",
      "  File \"/Users/tracy/anaconda3/lib/python3.6/site-packages/IPython/core/interactiveshell.py\", line 2874, in _run_cell\n",
      "    return runner(coro)\n",
      "  File \"/Users/tracy/anaconda3/lib/python3.6/site-packages/IPython/core/async_helpers.py\", line 67, in _pseudo_sync_runner\n",
      "    coro.send(None)\n",
      "  File \"/Users/tracy/anaconda3/lib/python3.6/site-packages/IPython/core/interactiveshell.py\", line 3049, in run_cell_async\n",
      "    interactivity=interactivity, compiler=compiler, result=result)\n",
      "  File \"/Users/tracy/anaconda3/lib/python3.6/site-packages/IPython/core/interactiveshell.py\", line 3214, in run_ast_nodes\n",
      "    if (yield from self.run_code(code, result)):\n",
      "  File \"/Users/tracy/anaconda3/lib/python3.6/site-packages/IPython/core/interactiveshell.py\", line 3296, in run_code\n",
      "    exec(code_obj, self.user_global_ns, self.user_ns)\n",
      "  File \"<ipython-input-11-0c61e16b1d70>\", line 1, in <module>\n",
      "    tokens_1 = [ ' '.join(jieba.lcut(x)) for x in tqdm(content_1) ]\n",
      "  File \"<ipython-input-11-0c61e16b1d70>\", line 1, in <listcomp>\n",
      "    tokens_1 = [ ' '.join(jieba.lcut(x)) for x in tqdm(content_1) ]\n",
      "  File \"/Users/tracy/anaconda3/lib/python3.6/site-packages/jieba/__init__.py\", line 333, in lcut\n",
      "    return list(self.cut(*args, **kwargs))\n",
      "  File \"/Users/tracy/anaconda3/lib/python3.6/site-packages/jieba/__init__.py\", line 301, in cut\n",
      "    for word in cut_block(blk):\n",
      "  File \"/Users/tracy/anaconda3/lib/python3.6/site-packages/jieba/__init__.py\", line 233, in __cut_DAG\n",
      "    DAG = self.get_DAG(sentence)\n",
      "  File \"/Users/tracy/anaconda3/lib/python3.6/site-packages/jieba/__init__.py\", line 179, in get_DAG\n",
      "    self.check_initialized()\n",
      "  File \"/Users/tracy/anaconda3/lib/python3.6/site-packages/jieba/__init__.py\", line 168, in check_initialized\n",
      "    self.initialize()\n",
      "  File \"/Users/tracy/anaconda3/lib/python3.6/site-packages/jieba/__init__.py\", line 163, in initialize\n",
      "    \"Loading model cost %.3f seconds.\" % (time.time() - t1))\n",
      "Message: 'Loading model cost 0.713 seconds.'\n",
      "Arguments: ()\n",
      "Prefix dict has been built succesfully.\n",
      "--- Logging error ---\n",
      "Traceback (most recent call last):\n",
      "  File \"/Users/tracy/anaconda3/lib/python3.6/logging/__init__.py\", line 994, in emit\n",
      "    msg = self.format(record)\n",
      "  File \"/Users/tracy/anaconda3/lib/python3.6/logging/__init__.py\", line 840, in format\n",
      "    return fmt.format(record)\n",
      "  File \"/Users/tracy/anaconda3/lib/python3.6/logging/__init__.py\", line 580, in format\n",
      "    s = self.formatMessage(record)\n",
      "  File \"/Users/tracy/anaconda3/lib/python3.6/logging/__init__.py\", line 549, in formatMessage\n",
      "    return self._style.format(record)\n",
      "  File \"/Users/tracy/anaconda3/lib/python3.6/logging/__init__.py\", line 391, in format\n",
      "    return self._fmt % record.__dict__\n",
      "KeyError: 'massage'\n",
      "Call stack:\n",
      "  File \"/Users/tracy/anaconda3/lib/python3.6/runpy.py\", line 193, in _run_module_as_main\n",
      "    \"__main__\", mod_spec)\n",
      "  File \"/Users/tracy/anaconda3/lib/python3.6/runpy.py\", line 85, in _run_code\n",
      "    exec(code, run_globals)\n",
      "  File \"/Users/tracy/anaconda3/lib/python3.6/site-packages/ipykernel_launcher.py\", line 16, in <module>\n",
      "    app.launch_new_instance()\n",
      "  File \"/Users/tracy/anaconda3/lib/python3.6/site-packages/traitlets/config/application.py\", line 658, in launch_instance\n",
      "    app.start()\n",
      "  File \"/Users/tracy/anaconda3/lib/python3.6/site-packages/ipykernel/kernelapp.py\", line 505, in start\n",
      "    self.io_loop.start()\n",
      "  File \"/Users/tracy/anaconda3/lib/python3.6/site-packages/tornado/platform/asyncio.py\", line 148, in start\n",
      "    self.asyncio_loop.run_forever()\n",
      "  File \"/Users/tracy/anaconda3/lib/python3.6/asyncio/base_events.py\", line 438, in run_forever\n",
      "    self._run_once()\n",
      "  File \"/Users/tracy/anaconda3/lib/python3.6/asyncio/base_events.py\", line 1451, in _run_once\n",
      "    handle._run()\n",
      "  File \"/Users/tracy/anaconda3/lib/python3.6/asyncio/events.py\", line 145, in _run\n",
      "    self._callback(*self._args)\n",
      "  File \"/Users/tracy/anaconda3/lib/python3.6/site-packages/tornado/ioloop.py\", line 690, in <lambda>\n",
      "    lambda f: self._run_callback(functools.partial(callback, future))\n",
      "  File \"/Users/tracy/anaconda3/lib/python3.6/site-packages/tornado/ioloop.py\", line 743, in _run_callback\n",
      "    ret = callback()\n",
      "  File \"/Users/tracy/anaconda3/lib/python3.6/site-packages/tornado/gen.py\", line 781, in inner\n",
      "    self.run()\n",
      "  File \"/Users/tracy/anaconda3/lib/python3.6/site-packages/tornado/gen.py\", line 742, in run\n",
      "    yielded = self.gen.send(value)\n",
      "  File \"/Users/tracy/anaconda3/lib/python3.6/site-packages/ipykernel/kernelbase.py\", line 357, in process_one\n",
      "    yield gen.maybe_future(dispatch(*args))\n",
      "  File \"/Users/tracy/anaconda3/lib/python3.6/site-packages/tornado/gen.py\", line 209, in wrapper\n",
      "    yielded = next(result)\n",
      "  File \"/Users/tracy/anaconda3/lib/python3.6/site-packages/ipykernel/kernelbase.py\", line 267, in dispatch_shell\n",
      "    yield gen.maybe_future(handler(stream, idents, msg))\n",
      "  File \"/Users/tracy/anaconda3/lib/python3.6/site-packages/tornado/gen.py\", line 209, in wrapper\n",
      "    yielded = next(result)\n",
      "  File \"/Users/tracy/anaconda3/lib/python3.6/site-packages/ipykernel/kernelbase.py\", line 534, in execute_request\n",
      "    user_expressions, allow_stdin,\n",
      "  File \"/Users/tracy/anaconda3/lib/python3.6/site-packages/tornado/gen.py\", line 209, in wrapper\n",
      "    yielded = next(result)\n",
      "  File \"/Users/tracy/anaconda3/lib/python3.6/site-packages/ipykernel/ipkernel.py\", line 294, in do_execute\n",
      "    res = shell.run_cell(code, store_history=store_history, silent=silent)\n",
      "  File \"/Users/tracy/anaconda3/lib/python3.6/site-packages/ipykernel/zmqshell.py\", line 536, in run_cell\n",
      "    return super(ZMQInteractiveShell, self).run_cell(*args, **kwargs)\n",
      "  File \"/Users/tracy/anaconda3/lib/python3.6/site-packages/IPython/core/interactiveshell.py\", line 2848, in run_cell\n",
      "    raw_cell, store_history, silent, shell_futures)\n",
      "  File \"/Users/tracy/anaconda3/lib/python3.6/site-packages/IPython/core/interactiveshell.py\", line 2874, in _run_cell\n",
      "    return runner(coro)\n",
      "  File \"/Users/tracy/anaconda3/lib/python3.6/site-packages/IPython/core/async_helpers.py\", line 67, in _pseudo_sync_runner\n",
      "    coro.send(None)\n",
      "  File \"/Users/tracy/anaconda3/lib/python3.6/site-packages/IPython/core/interactiveshell.py\", line 3049, in run_cell_async\n",
      "    interactivity=interactivity, compiler=compiler, result=result)\n",
      "  File \"/Users/tracy/anaconda3/lib/python3.6/site-packages/IPython/core/interactiveshell.py\", line 3214, in run_ast_nodes\n",
      "    if (yield from self.run_code(code, result)):\n",
      "  File \"/Users/tracy/anaconda3/lib/python3.6/site-packages/IPython/core/interactiveshell.py\", line 3296, in run_code\n",
      "    exec(code_obj, self.user_global_ns, self.user_ns)\n",
      "  File \"<ipython-input-11-0c61e16b1d70>\", line 1, in <module>\n",
      "    tokens_1 = [ ' '.join(jieba.lcut(x)) for x in tqdm(content_1) ]\n",
      "  File \"<ipython-input-11-0c61e16b1d70>\", line 1, in <listcomp>\n",
      "    tokens_1 = [ ' '.join(jieba.lcut(x)) for x in tqdm(content_1) ]\n",
      "  File \"/Users/tracy/anaconda3/lib/python3.6/site-packages/jieba/__init__.py\", line 333, in lcut\n",
      "    return list(self.cut(*args, **kwargs))\n",
      "  File \"/Users/tracy/anaconda3/lib/python3.6/site-packages/jieba/__init__.py\", line 301, in cut\n",
      "    for word in cut_block(blk):\n",
      "  File \"/Users/tracy/anaconda3/lib/python3.6/site-packages/jieba/__init__.py\", line 233, in __cut_DAG\n",
      "    DAG = self.get_DAG(sentence)\n",
      "  File \"/Users/tracy/anaconda3/lib/python3.6/site-packages/jieba/__init__.py\", line 179, in get_DAG\n",
      "    self.check_initialized()\n",
      "  File \"/Users/tracy/anaconda3/lib/python3.6/site-packages/jieba/__init__.py\", line 168, in check_initialized\n",
      "    self.initialize()\n",
      "  File \"/Users/tracy/anaconda3/lib/python3.6/site-packages/jieba/__init__.py\", line 164, in initialize\n",
      "    default_logger.debug(\"Prefix dict has been built succesfully.\")\n",
      "Message: 'Prefix dict has been built succesfully.'\n",
      "Arguments: ()\n"
     ]
    },
    {
     "name": "stdout",
     "output_type": "stream",
     "text": [
      "\n"
     ]
    }
   ],
   "source": [
    "tokens_1 = [ ' '.join(jieba.lcut(x)) for x in tqdm(content_1) ]"
   ]
  },
  {
   "cell_type": "code",
   "execution_count": 14,
   "metadata": {},
   "outputs": [],
   "source": [
    "tokens_1 = [x.replace('  ',' ') for x in tokens_1]"
   ]
  },
  {
   "cell_type": "markdown",
   "metadata": {},
   "source": [
    "### Normalize 转化成词向量 "
   ]
  },
  {
   "cell_type": "code",
   "execution_count": 15,
   "metadata": {
    "scrolled": true
   },
   "outputs": [
    {
     "data": {
      "application/vnd.jupyter.widget-view+json": {
       "model_id": "9e41e0a2facc4049bc4b43987ba99e34",
       "version_major": 2,
       "version_minor": 0
      },
      "text/plain": [
       "HBox(children=(IntProgress(value=0, max=58178), HTML(value='')))"
      ]
     },
     "metadata": {},
     "output_type": "display_data"
    },
    {
     "name": "stdout",
     "output_type": "stream",
     "text": [
      "\n"
     ]
    }
   ],
   "source": [
    "#先保存处理好的句子\n",
    "with open('content_cut.txt',mode='w',encoding='utf-8') as f:\n",
    "    for t in tqdm(tokens_1):\n",
    "        f.write(t +'\\n')"
   ]
  },
  {
   "cell_type": "code",
   "execution_count": 16,
   "metadata": {},
   "outputs": [],
   "source": [
    "sentences_1 = LineSentence('content_cut.txt')"
   ]
  },
  {
   "cell_type": "code",
   "execution_count": 17,
   "metadata": {
    "scrolled": true
   },
   "outputs": [],
   "source": [
    "model_1 = Word2Vec(sentences_1, min_count=10,size=100,workers=4)"
   ]
  },
  {
   "cell_type": "code",
   "execution_count": 119,
   "metadata": {},
   "outputs": [
    {
     "data": {
      "text/plain": [
       "[('表示', 0.7852936387062073),\n",
       " ('指出', 0.7177790403366089),\n",
       " ('看来', 0.67959064245224),\n",
       " ('坦言', 0.6606078743934631),\n",
       " ('认为', 0.6565666198730469),\n",
       " ('告诉', 0.6537516117095947),\n",
       " ('称', 0.6389726400375366),\n",
       " ('明说', 0.6327576041221619),\n",
       " ('说道', 0.6305349469184875),\n",
       " ('写道', 0.6010029315948486)]"
      ]
     },
     "execution_count": 119,
     "metadata": {},
     "output_type": "execute_result"
    }
   ],
   "source": [
    "model_1.wv.most_similar('说',topn=10)"
   ]
  },
  {
   "cell_type": "code",
   "execution_count": 19,
   "metadata": {},
   "outputs": [],
   "source": [
    "def get_similar_words(initial_words,model):\n",
    "    unseen = initial_words\n",
    "    seen =  defaultdict(int)\n",
    "    \n",
    "    max_size = 500\n",
    "    \n",
    "    while unseen and len(seen) < max_size:\n",
    "        \n",
    "        #node = unseen.pop(0)[0]\n",
    "        node = unseen.pop(0)\n",
    "        \n",
    "        #new_expanding = [ (w,s) for w, s in model.wv.most_similar(node,topn=20)]\n",
    "        new_expanding = [ w for w, s in model.wv.most_similar(node,topn=20) ]\n",
    "        \n",
    "        unseen += new_expanding\n",
    "        \n",
    "        #seen[node] += new_expanding[1]\n",
    "        seen[node] += 1\n",
    "       \n",
    "    return seen"
   ]
  },
  {
   "cell_type": "code",
   "execution_count": 139,
   "metadata": {},
   "outputs": [],
   "source": [
    "from collections import defaultdict \n",
    "node_dict = defaultdict(int)"
   ]
  },
  {
   "cell_type": "code",
   "execution_count": 140,
   "metadata": {},
   "outputs": [
    {
     "data": {
      "text/plain": [
       "defaultdict(int, {})"
      ]
     },
     "execution_count": 140,
     "metadata": {},
     "output_type": "execute_result"
    }
   ],
   "source": [
    "node_dict"
   ]
  },
  {
   "cell_type": "code",
   "execution_count": 196,
   "metadata": {},
   "outputs": [],
   "source": [
    "# sum_similar = 0 \n",
    "# def get_similar_words_2(target,model): #需要获得 说 最多的搜索路径\n",
    "    \n",
    "#     wv = model.wv\n",
    "\n",
    "#     similar_word_list = wv.most_similar(target,topn=10) \n",
    "\n",
    "#     similar_word_list = [x[0] for x in similar_word_list]\n",
    "   \n",
    "#     find_target = lambda word: (word,1) if word not in node_dict.keys() \\\n",
    "#         and '说' in [y[0] for y in wv.most_similar(word,topn=10)] else None\n",
    "    \n",
    "#     next_level = [ h(s) for s in similar_word_list]\n",
    "    \n",
    "#     print(next_level)\n",
    "    \n",
    "#     sum_similar = sum([x[1] for x in next_level])\n",
    "#     print('sum_similar',sum_similar)\n",
    "    \n",
    "# #     print(sum_similar)\n",
    "#     if sum_similar <= 1:\n",
    "#         return 0\n",
    "#     else:\n",
    "#         for w,s in next_level:\n",
    "#             node_dict[w] += s    \n",
    "# #         print(node_dict)\n",
    "#             get_similar_words_2(w,model_1)\n",
    "            \n",
    "        \n",
    "        "
   ]
  },
  {
   "cell_type": "code",
   "execution_count": 194,
   "metadata": {},
   "outputs": [
    {
     "name": "stdout",
     "output_type": "stream",
     "text": [
      "[('表示', 1), ('指出', 1), ('看来', 1), ('坦言', 1), ('认为', 1), ('告诉', 1), ('称', 1), ('明说', 1), ('说道', 0), ('写道', 1)]\n",
      "sum_similar 9\n"
     ]
    },
    {
     "ename": "NameError",
     "evalue": "name 'next_similar' is not defined",
     "output_type": "error",
     "traceback": [
      "\u001b[0;31m---------------------------------------------------------------------------\u001b[0m",
      "\u001b[0;31mNameError\u001b[0m                                 Traceback (most recent call last)",
      "\u001b[0;32m<ipython-input-194-aa45af29e6ea>\u001b[0m in \u001b[0;36m<module>\u001b[0;34m\u001b[0m\n\u001b[0;32m----> 1\u001b[0;31m \u001b[0mget_similar_words_2\u001b[0m\u001b[0;34m(\u001b[0m\u001b[0;34m'说'\u001b[0m\u001b[0;34m,\u001b[0m\u001b[0mmodel_1\u001b[0m\u001b[0;34m)\u001b[0m\u001b[0;34m\u001b[0m\u001b[0;34m\u001b[0m\u001b[0m\n\u001b[0m",
      "\u001b[0;32m<ipython-input-185-fd0d9a0a9fe9>\u001b[0m in \u001b[0;36mget_similar_words_2\u001b[0;34m(target, model)\u001b[0m\n\u001b[1;32m     22\u001b[0m             \u001b[0mnode_dict\u001b[0m\u001b[0;34m[\u001b[0m\u001b[0mw\u001b[0m\u001b[0;34m]\u001b[0m \u001b[0;34m+=\u001b[0m \u001b[0ms\u001b[0m\u001b[0;34m\u001b[0m\u001b[0;34m\u001b[0m\u001b[0m\n\u001b[1;32m     23\u001b[0m \u001b[0;31m#         print(node_dict)\u001b[0m\u001b[0;34m\u001b[0m\u001b[0;34m\u001b[0m\u001b[0;34m\u001b[0m\u001b[0m\n\u001b[0;32m---> 24\u001b[0;31m         \u001b[0mnext_level_2\u001b[0m \u001b[0;34m=\u001b[0m \u001b[0;34m[\u001b[0m\u001b[0mget_similar_words_2\u001b[0m\u001b[0;34m(\u001b[0m\u001b[0mx\u001b[0m\u001b[0;34m,\u001b[0m\u001b[0mmodel_1\u001b[0m\u001b[0;34m)\u001b[0m \u001b[0;32mfor\u001b[0m \u001b[0mx\u001b[0m \u001b[0;32min\u001b[0m \u001b[0mnext_similar\u001b[0m\u001b[0;34m]\u001b[0m\u001b[0;34m\u001b[0m\u001b[0;34m\u001b[0m\u001b[0m\n\u001b[0m\u001b[1;32m     25\u001b[0m         \u001b[0mprint\u001b[0m\u001b[0;34m(\u001b[0m\u001b[0mnext_level_2\u001b[0m\u001b[0;34m)\u001b[0m\u001b[0;34m\u001b[0m\u001b[0;34m\u001b[0m\u001b[0m\n\u001b[1;32m     26\u001b[0m \u001b[0;34m\u001b[0m\u001b[0m\n",
      "\u001b[0;31mNameError\u001b[0m: name 'next_similar' is not defined"
     ]
    }
   ],
   "source": [
    "get_similar_words_2('说',model_1)"
   ]
  },
  {
   "cell_type": "code",
   "execution_count": 168,
   "metadata": {},
   "outputs": [
    {
     "data": {
      "text/plain": [
       "defaultdict(int,\n",
       "            {'表示': 13,\n",
       "             '指出': 20,\n",
       "             '看来': 20,\n",
       "             '坦言': 20,\n",
       "             '认为': 20,\n",
       "             '告诉': 13,\n",
       "             '称': 20,\n",
       "             '明说': 13,\n",
       "             '说道': 0,\n",
       "             '写道': 13,\n",
       "             '透露': 7,\n",
       "             '强调': 0,\n",
       "             '声称': 0,\n",
       "             '宣称': 7})"
      ]
     },
     "execution_count": 168,
     "metadata": {},
     "output_type": "execute_result"
    }
   ],
   "source": [
    "node_dict"
   ]
  },
  {
   "cell_type": "code",
   "execution_count": 115,
   "metadata": {},
   "outputs": [],
   "source": [
    "similar_words_1 = get_similar_words(['说','表示'],model_1)"
   ]
  },
  {
   "cell_type": "code",
   "execution_count": 116,
   "metadata": {},
   "outputs": [
    {
     "data": {
      "text/plain": [
       "[('说', 70),\n",
       " ('指出', 62),\n",
       " ('表示', 55),\n",
       " ('认为', 45),\n",
       " ('透露', 45),\n",
       " ('声称', 45),\n",
       " ('坦言', 41),\n",
       " ('说道', 41),\n",
       " ('宣称', 38),\n",
       " ('看来', 35),\n",
       " ('告诉', 35),\n",
       " ('强调', 34),\n",
       " ('写道', 32),\n",
       " ('相信', 30),\n",
       " ('觉得', 28),\n",
       " ('称', 26),\n",
       " ('否认', 26),\n",
       " ('地说', 25),\n",
       " ('指责', 25),\n",
       " ('直言', 24)]"
      ]
     },
     "execution_count": 116,
     "metadata": {},
     "output_type": "execute_result"
    }
   ],
   "source": [
    "sorted(similar_words_1.items(),key=lambda x: x[1],reverse=True)[:20]"
   ]
  },
  {
   "cell_type": "code",
   "execution_count": null,
   "metadata": {},
   "outputs": [],
   "source": []
  }
 ],
 "metadata": {
  "kernelspec": {
   "display_name": "Python 3",
   "language": "python",
   "name": "python3"
  },
  "language_info": {
   "codemirror_mode": {
    "name": "ipython",
    "version": 3
   },
   "file_extension": ".py",
   "mimetype": "text/x-python",
   "name": "python",
   "nbconvert_exporter": "python",
   "pygments_lexer": "ipython3",
   "version": "3.6.8"
  }
 },
 "nbformat": 4,
 "nbformat_minor": 2
}
