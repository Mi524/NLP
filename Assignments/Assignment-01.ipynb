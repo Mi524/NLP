{
 "cells": [
  {
   "cell_type": "code",
   "execution_count": 1,
   "metadata": {},
   "outputs": [],
   "source": [
    "rules = {\n",
    "    \"?*X hello ?*Y\": [\"Hi, how do you do?\"],\n",
    "    \"I was ?*X\": [\"Were you really ?X ?\", \"I already knew you were ?X .\"]\n",
    "}"
   ]
  },
  {
   "cell_type": "markdown",
   "metadata": {},
   "source": [
    "## 问题1\n",
    "编写一个程序, get_response(saying, response_rules)输入是一个字符串 + 我们定义的 rules，例如上边我们所写的 pattern， 输出是一个回答。"
   ]
  },
  {
   "cell_type": "code",
   "execution_count": 2,
   "metadata": {},
   "outputs": [],
   "source": [
    "def is_pattern_segment(word):\n",
    "    return word.startswith('?*') and all(a.isalpha() for a in word[2:])"
   ]
  },
  {
   "cell_type": "code",
   "execution_count": 3,
   "metadata": {},
   "outputs": [],
   "source": [
    "def is_variable(word):\n",
    "    return word.startswith('?') and all(a.isalpha() for a in word[1:])"
   ]
  },
  {
   "cell_type": "markdown",
   "metadata": {},
   "source": [
    "\n",
    "    "
   ]
  },
  {
   "cell_type": "code",
   "execution_count": 4,
   "metadata": {},
   "outputs": [],
   "source": [
    "def pat_to_dict(patterns):\n",
    "    return {k:v for k,v in patterns}\n",
    "\n",
    "def pat_to_dict_without_star(patterns):\n",
    "    return {k.replace('?*','?'):v for k,v in patterns}"
   ]
  },
  {
   "cell_type": "code",
   "execution_count": 5,
   "metadata": {},
   "outputs": [],
   "source": [
    "# 记录每个匹配符号和对应的内容\n",
    "def pat_match(pattern,saying):\n",
    "    if not pattern or not saying: return []\n",
    "    if is_pattern_segment(pattern[0]):\n",
    "        return [(pattern[0],saying[0])] + pat_match(pattern[1:],saying[1:])\n",
    "    else:\n",
    "        if pattern[0] != saying[0]: \n",
    "            return []\n",
    "        else: \n",
    "            return pat_match(pattern[1:],saying[1:])\n"
   ]
  },
  {
   "cell_type": "markdown",
   "metadata": {},
   "source": [
    "以最大匹配长度来匹配目标"
   ]
  },
  {
   "cell_type": "code",
   "execution_count": 6,
   "metadata": {},
   "outputs": [],
   "source": [
    "def find_match_index(pattern,saying):\n",
    "    #检查后边的文字,pattern_part第一个部分是 * 号\n",
    "    match_index = -1  # -1 代表默认的完全匹配不上\n",
    "    pat,rest = pattern[0],pattern[1:]\n",
    "    #这里 0 判断*号后面已经没有文字，saying后边部分都当成 * 来配对\n",
    "    if not rest: return 0\n",
    "\n",
    "    for i, token in enumerate(saying):\n",
    "        if rest[0] != token : \n",
    "            continue\n",
    "        else:\n",
    "            match_index = i\n",
    "    return match_index"
   ]
  },
  {
   "cell_type": "code",
   "execution_count": 7,
   "metadata": {},
   "outputs": [
    {
     "data": {
      "text/plain": [
       "1"
      ]
     },
     "execution_count": 7,
     "metadata": {},
     "output_type": "execute_result"
    }
   ],
   "source": [
    "pattern = '?*X is cute'\n",
    "saying = 'cat is cute'\n",
    "\n",
    "a =  find_match_index(pattern.split(),saying.split())\n",
    "a"
   ]
  },
  {
   "cell_type": "code",
   "execution_count": 8,
   "metadata": {},
   "outputs": [],
   "source": [
    "def pat_match_with_seg(pattern,saying):\n",
    "    #My dog and cat is cute --> ?*X is cute\n",
    "    #I want to eat your apple -->  I want to eat your ?*X\n",
    "    if not pattern or not saying: return []\n",
    "    saying_adding = saying[0]\n",
    "    #如果遇到匹配符号,检查后面的文字哪里有相同的部分，组合后面相同的文字得到需要匹配的项目\n",
    "    if is_pattern_segment(pattern[0]):\n",
    "        match_index = find_match_index(pattern,saying) \n",
    "        if match_index == 0:\n",
    "            return [(pattern[0],' '.join(saying))]\n",
    "        elif match_index > 0: #如果找到把它们拼接起来\n",
    "            saying[0]  = ' '.join(saying[:match_index])\n",
    "            del saying[1:match_index]\n",
    "            return [(pattern[0],saying[0])] + pat_match_with_seg(pattern[1:],saying[1:])       \n",
    "        else: #match_index = -1 \n",
    "            return []\n",
    "    else: #如果第一个没有遇到,后半部分继续匹配,\n",
    "        if pattern[0] == saying[0]:\n",
    "            return pat_match_with_seg(pattern[1:],saying[1:])\n",
    "        else: #如果没有遇到匹配符号，并且已经发现文字不同就直接返回空集合\n",
    "            return []\n"
   ]
  },
  {
   "cell_type": "code",
   "execution_count": 9,
   "metadata": {},
   "outputs": [
    {
     "data": {
      "text/plain": [
       "[('?*X', 'an orange'), ('?*Y', 'an apple')]"
      ]
     },
     "execution_count": 9,
     "metadata": {},
     "output_type": "execute_result"
    }
   ],
   "source": [
    "pattern = 'I want ?*X and ?*Y'\n",
    "saying = 'I want an orange and an apple'\n",
    "\n",
    "pattern_match =  pat_match_with_seg(pattern.split(),saying.split())\n",
    "pattern_match "
   ]
  },
  {
   "cell_type": "code",
   "execution_count": 10,
   "metadata": {},
   "outputs": [],
   "source": [
    "def substitude(match_sentence,rule_match_dict):\n",
    "    if not match_sentence: return []\n",
    "    partial = [rule_match_dict.get(match_sentence[0],match_sentence[0])] \n",
    "    return partial + substitude(match_sentence[1:],rule_match_dict)"
   ]
  },
  {
   "cell_type": "code",
   "execution_count": 11,
   "metadata": {},
   "outputs": [],
   "source": [
    "import random \n",
    "def get_response(saying,rules):\n",
    "    rule_resp = ['No' ,'answer']\n",
    "    for k, v in rules.items():\n",
    "        pattern_match = pat_match_with_seg(k.split(),saying.split())\n",
    "        pat_dict = pat_to_dict_without_star(pattern_match)\n",
    "        if pat_dict:  # 如果匹配到格式\n",
    "            rule_resp = random.choice(v)\n",
    "            #检查回复是否含有需要替换的部分\n",
    "            if any(is_variable(a) for a in rule_resp.split()):\n",
    "                rule_resp = substitude(rule_resp.split(),pat_dict)\n",
    "            else :\n",
    "                pass\n",
    "    return rule_resp\n"
   ]
  },
  {
   "cell_type": "code",
   "execution_count": 12,
   "metadata": {},
   "outputs": [
    {
     "data": {
      "text/plain": [
       "['Were', 'you', 'really', 'an dinosaur', '?']"
      ]
     },
     "execution_count": 12,
     "metadata": {},
     "output_type": "execute_result"
    }
   ],
   "source": [
    "\n",
    "saying = 'I was an dinosaur'\n",
    "# saying = 'Lily hello uuuu'\n",
    "\n",
    "x = get_response(saying,rules)\n",
    "x"
   ]
  },
  {
   "cell_type": "markdown",
   "metadata": {},
   "source": [
    "## 问题2 ：\n",
    "改写以上程序，将程序变成能够支持中文输入的模式。 提示: 你可以需用用到 jieba 分词"
   ]
  },
  {
   "cell_type": "code",
   "execution_count": null,
   "metadata": {},
   "outputs": [],
   "source": [
    "import re \n",
    "import string\n",
    "import jieba\n",
    "import random \n",
    "\n",
    "rule_responses = {\n",
    "    '?*x hello ?*y': ['How do you do', 'Please state your problem'],\n",
    "    '?*x I want ?*y': ['what would it mean if you got ?y', 'Why do you want ?y', 'Suppose you got ?y soon'],\n",
    "    '?*x if ?*y': ['Do you really think its likely that ?y', 'Do you wish that ?y', 'What do you think about ?y', 'Really-- if ?y'],\n",
    "    '?*x no ?*y': ['why not?', 'You are being a negative', 'Are you saying \\'No\\' just to be negative?'],\n",
    "    '?*x I was ?*y': ['Were you really ?y ?', 'Perhaps I already knew you were ?y', 'Why do you tell me you were ?y now?'],\n",
    "    '?*x I feel ?*y': ['Do you often feel ?y ?', 'What other feelings do you have?'],\n",
    "    '?*x你好?*y': ['你好呀', '请告诉我你的问题'],\n",
    "    '?*x我想?*y': ['你觉得?y有什么意义呢？', '为什么你想?y', '你可以想想你很快就可以?y了'],\n",
    "    '?*x我想要?*y': ['?x想问你，你觉得?y有什么意义呢?', '为什么你想?y', '?x觉得... 你可以想想你很快就可以有?y了', '你看?x像?y不', '我看你就像?y'],\n",
    "    '?*x喜欢?*y': ['喜欢?y的哪里？', '?y有什么好的呢？', '你想要?y吗？'],\n",
    "    '?*x讨厌?*y': ['?y怎么会那么讨厌呢?', '讨厌?y的哪里？', '?y有什么不好呢？', '你不想要?y吗？'],\n",
    "    '?*xAI?*y': ['你为什么要提AI的事情？', '你为什么觉得AI要解决你的问题？'],\n",
    "    '?*x机器人?*y': ['你为什么要提机器人的事情？', '你为什么觉得机器人要解决你的问题？'],\n",
    "    '?*x对不起?*y': ['不用道歉', '你为什么觉得你需要道歉呢?'],\n",
    "    '?*x我记得?*y': ['你经常会想起这个吗？', '除了?y你还会想起什么吗？', '你为什么和我提起?y'],\n",
    "    '?*x如果?*y': ['你真的觉得?y会发生吗？', '你希望?y吗?', '真的吗？如果?y的话', '关于?y你怎么想？'],\n",
    "    '?*x我?*z梦见?*y':['真的吗? --- ?y', '你在醒着的时候，以前想象过?y吗？', '你以前梦见过?y吗'],\n",
    "    '?*x妈妈?*y': ['你家里除了?y还有谁?', '嗯嗯，多说一点和你家里有关系的', '她对你影响很大吗？'],\n",
    "    '?*x爸爸?*y': ['你家里除了?y还有谁?', '嗯嗯，多说一点和你家里有关系的', '他对你影响很大吗？', '每当你想起你爸爸的时候， 你还会想起其他的吗?'],\n",
    "    '?*x我愿意?*y': ['我可以帮你?y吗？', '你可以解释一下，为什么想?y'],\n",
    "    '?*x我很难过，因为?*y': ['我听到你这么说， 也很难过', '?y不应该让你这么难过的'],\n",
    "    '?*x难过?*y': ['我听到你这么说， 也很难过',\n",
    "                 '不应该让你这么难过的，你觉得你拥有什么，就会不难过?',\n",
    "                 '你觉得事情变成什么样，你就不难过了?'],\n",
    "    '?*x就像?*y': ['你觉得?x和?y有什么相似性？', '?x和?y真的有关系吗？', '怎么说？'],\n",
    "    '?*x和?*y都?*z': ['你觉得?z有什么问题吗?', '?z会对你有什么影响呢?'],\n",
    "    '?*x和?*y一样?*z': ['你觉得?z有什么问题吗?', '?z会对你有什么影响呢?'],\n",
    "    '?*x我是?*y': ['真的吗？', '?x想告诉你，或许我早就知道你是?y', '你为什么现在才告诉我你是?y'],\n",
    "    '?*x我是?*y吗': ['如果你是?y会怎么样呢？', '你觉得你是?y吗', '如果你是?y，那一位着什么?'],\n",
    "    '?*x你是?*y吗':  ['你为什么会对我是不是?y感兴趣?', '那你希望我是?y吗', '你要是喜欢， 我就会是?y'],\n",
    "    '?*x你是?*y' : ['为什么你觉得我是?y'],\n",
    "    '?*x因为?*y' : ['?y是真正的原因吗？', '你觉得会有其他原因吗?'],\n",
    "    '?*x我不能?*y': ['你或许现在就能?*y', '如果你能?*y,会怎样呢？'],\n",
    "    '?*x我觉得?*y': ['你经常这样感觉吗？', '除了到这个，你还有什么其他的感觉吗？'],\n",
    "    '?*x我?*y你?*z': ['其实很有可能我们互相?y'],\n",
    "    '?*x你为什么不?*y': ['你自己为什么不?y', '你觉得我不会?y', '等我心情好了，我就?y'],\n",
    "    '?*x好的?*y': ['好的', '你是一个很正能量的人'],\n",
    "    '?*x嗯嗯?*y': ['好的', '你是一个很正能量的人'],\n",
    "    '?*x不嘛?*y': ['为什么不？', '你有一点负能量', '你说 不，是想表达不想的意思吗？'],\n",
    "    '?*x不要?*y': ['为什么不？', '你有一点负能量', '你说 不，是想表达不想的意思吗？'],\n",
    "    '?*x有些人?*y': ['具体是哪些人呢?'],\n",
    "    '?*x有的人?*y': ['具体是哪些人呢?'],\n",
    "    '?*x某些人?*y': ['具体是哪些人呢?'],\n",
    "    '?*x每个人?*y': ['我确定不是人人都是', '你能想到一点特殊情况吗？', '例如谁？', '你看到的其实只是一小部分人'],\n",
    "    '?*x所有人?*y': ['我确定不是人人都是', '你能想到一点特殊情况吗？', '例如谁？', '你看到的其实只是一小部分人'],\n",
    "    '?*x总是?*y': ['你能想到一些其他情况吗?', '例如什么时候?', '你具体是说哪一次？', '真的---总是吗？'],\n",
    "    '?*x一直?*y': ['你能想到一些其他情况吗?', '例如什么时候?', '你具体是说哪一次？', '真的---总是吗？'],\n",
    "    '?*x或许?*y': ['你看起来不太确定'],\n",
    "    '?*x可能?*y': ['你看起来不太确定'],\n",
    "    '?*x他们是?*y吗？': ['你觉得他们可能不是?y？'],\n",
    "    '?*x': ['很有趣', '请继续', '我不太确定我很理解你说的, 能稍微详细解释一下吗?']\n",
    "}\n",
    "\n",
    "\n",
    "def is_variable(word):\n",
    "    return word.startswith('?') and all(a.isalpha() for a in word[1:])\n",
    "\n",
    "def is_pattern_segment(word):\n",
    "    return word.startswith('?*') and all(a.isalpha() for a in word[2:])\n",
    "\n",
    "def is_chinese(sentence):\n",
    "    if ' ' not in sentence: return True\n",
    "    else: return False\n",
    "\n",
    "def pat_to_dict_without_star(patterns):\n",
    "    return {k.replace('?*','?'):v for k,v in patterns.items()}\n",
    "\n",
    "def split_pattern(pattern):\n",
    "    alphabets = string.ascii_lowercase\n",
    "    pat_1 = any('?*{}'.format(x) in pattern for x in alphabets) \n",
    "    pat_2 = any('?{}'.format(x) in pattern for x in alphabets) \n",
    "    for a in alphabets:\n",
    "        if pat_1:\n",
    "            pattern = pattern.replace('?*{}'.format(a),',?*{},'.format(a))\n",
    "        elif pat_2:\n",
    "            pattern = pattern.replace('?{}'.format(a),',?{},'.format(a))\n",
    "        else: \n",
    "            return []\n",
    "    pattern = pattern.split(',')\n",
    "    pattern_list = [s for s in pattern if s]\n",
    "    return pattern_list\n",
    "\n",
    "#过滤pattern\n",
    "alphabets = ['?*{}'.format(x) for x in string.ascii_lowercase] \\\n",
    "          + ['?{}'.format(x)  for x in string.ascii_lowercase]\n",
    "\n",
    "#list.index()扩展版本,填入的是经过过滤的pattern_list\n",
    "def get_multi_index(target_list,complete_list):\n",
    "\n",
    "    def get_index(target_list,complete_list):\n",
    "        if not target_list: return []  \n",
    "        return [complete_list.index(target_list[0])] + get_index(target_list[1:],complete_list[1:])\n",
    "\n",
    "    index = get_index(target_list,complete_list)\n",
    "    index = [x + i for i,x in enumerate(index)]\n",
    "    return index \n",
    "\n",
    "def get_word_indexes(pattern_list,saying):\n",
    "    record_index = []\n",
    "    word_list = [x for x in pattern_list if x not in alphabets]\n",
    "    #如果全都是匹配符号，则word_list应该是这句话本身\n",
    "    if not word_list: \n",
    "        word_list = [saying]\n",
    "\n",
    "    word_index = get_multi_index(word_list,saying)\n",
    "    for w_index,word in zip(word_index,word_list):\n",
    "        end_index = w_index + len(word)\n",
    "        record_index.append((w_index,end_index))\n",
    "    return record_index\n",
    "\n",
    "#将连续的单个index，变成一组一组区间组合\n",
    "def combine_indexes(index_list):\n",
    "    index_list.sort()\n",
    "    if len(index_list) < 2:\n",
    "        return []\n",
    "    else: \n",
    "        return [(index_list[0],index_list[1])] + combine_indexes(index_list[1:])\n",
    "\n",
    "def pat_match_with_seg(pattern,saying):\n",
    "    #My dog and cat is cute --> ?*X is cute\n",
    "    #I want to eat your apple -->  I want to eat your ?*X\n",
    "    # hello I was an dinorsounr --> ?*x I was ?*y\n",
    "    record_dict = {}\n",
    "    pattern_list = split_pattern(pattern)\n",
    "    if not all(p in saying for p in pattern_list if p not in alphabets): #一旦遇到不存在的情况就返回\n",
    "        return record_dict\n",
    "    else:  #需要匹配出 ?*:\n",
    "        sign_list = [x for x in pattern_list if is_pattern_segment(x) ]\n",
    "        #需要求出sign_index的所有区间,可以通过word_index间接求出\n",
    "        word_index = get_word_indexes(pattern_list,saying)\n",
    "        #处理最后一个规则：只有一个匹配符号 ?*x ，遇到也是返回{}空集合，不返回{'?*x':'整个句子'} 没有意义\n",
    "        #(进行匹配有意义，返回无意义)\n",
    "        if word_index == [(0,len(saying))]:\n",
    "            return record_dict  \n",
    "        spread_word_index = set([ x[0] for x in  word_index ] + [x[1] for x in  word_index])\n",
    "        #防止单词没有在第一个开始出现，加入头和尾\n",
    "        spread_word_index.update({0,len(saying)})\n",
    "        spread_word_index = list(spread_word_index)\n",
    "        #获取组合后的全部区间\n",
    "        sign_word_index = combine_indexes(spread_word_index)\n",
    "        #全部区间 - 单词区间 = 符号的区间\n",
    "        sign_index = list(set(sign_word_index)-set(word_index))\n",
    "        sign_index.sort()\n",
    "        for s, i in zip(sign_list,sign_index):\n",
    "            value = saying[i[0]:i[1]]\n",
    "            record_dict.update({s:value})    \n",
    "    return record_dict\n",
    "\n",
    "def substitude(match_sentence,rule_match_dict):\n",
    "    for k,v in rule_match_dict.items():\n",
    "        match_sentence = match_sentence.replace(k,v)\n",
    "    return match_sentence\n",
    "\n",
    "def get_response(saying,rules):\n",
    "    #设置默认的回复\n",
    "    rule_resp = random.choice(rules['?*x'])\n",
    "    for k,v in list(rules.items())[:-1]:\n",
    "        pat_dict = pat_match_with_seg(k,saying)\n",
    "        if pat_dict:  # 如果匹配到格式\n",
    "            rule_resp = random.choice(v)\n",
    "            #检查回复是否含有需要替换的部分\n",
    "            if any(is_variable(a) for a in split_pattern(rule_resp)):\n",
    "                pat_dict = pat_to_dict_without_star(pat_dict)\n",
    "                rule_resp = substitude(rule_resp,pat_dict)\n",
    "                return rule_resp\n",
    "    return rule_resp\n",
    "\n",
    "def convert_test_saying(rules):\n",
    "    sign_list = ['?*x','?*y','?*z']\n",
    "    replace_list = ['苹果','西瓜','菠萝'] \n",
    "    record_list = []\n",
    "    for k in rules.keys():\n",
    "        for s,r in zip(sign_list,replace_list):\n",
    "            k = k.replace(s,r)\n",
    "        record_list.append(k)\n",
    "    return record_list\n",
    "\n",
    "sayings = convert_test_saying(rule_responses)\n",
    "\n",
    "for s in sayings:\n",
    "    resp = get_response(s,rule_responses)\n",
    "    print(s,'-->',resp)\n"
   ]
  },
  {
   "cell_type": "markdown",
   "metadata": {},
   "source": [
    "## 问题3\n",
    "多设计一些模式，让这个程序变得更好玩，多和大家交流，看看大家有什么好玩的模式"
   ]
  },
  {
   "cell_type": "markdown",
   "metadata": {},
   "source": [
    "没写"
   ]
  },
  {
   "cell_type": "markdown",
   "metadata": {},
   "source": [
    "## 问题4\n",
    "这样的程序有什么优点？\n",
    "--适用性比较强，可拓展模板\n",
    "\n",
    "有什么缺点？\n",
    "--不能匹配连续的两个*号，中文依赖jieba分词结果\n",
    "\n",
    "你有什么可以改进的方法吗？\n",
    "没有\n",
    "\n",
    "什么是数据驱动？数据驱动在这个程序里如何体现？\n",
    "--通过数据的格式去设计匹配模版\n",
    "\n",
    "数据驱动与 AI 的关系是什么？\n",
    "---算法建立在数据的基础上"
   ]
  },
  {
   "cell_type": "code",
   "execution_count": null,
   "metadata": {},
   "outputs": [],
   "source": []
  }
 ],
 "metadata": {
  "kernelspec": {
   "display_name": "Python 3",
   "language": "python",
   "name": "python3"
  },
  "language_info": {
   "codemirror_mode": {
    "name": "ipython",
    "version": 3
   },
   "file_extension": ".py",
   "mimetype": "text/x-python",
   "name": "python",
   "nbconvert_exporter": "python",
   "pygments_lexer": "ipython3",
   "version": "3.6.8"
  }
 },
 "nbformat": 4,
 "nbformat_minor": 2
}
